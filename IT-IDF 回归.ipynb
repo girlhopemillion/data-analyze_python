{
 "cells": [
  {
   "cell_type": "code",
   "execution_count": 35,
   "id": "33fe4a44",
   "metadata": {},
   "outputs": [],
   "source": [
    "import os\n",
    "import pandas as pd\n",
    "from sklearn.model_selection import train_test_split\n",
    "from pypinyin import lazy_pinyin,Style\n",
    "from sklearn.feature_extraction.text import TfidfVectorizer\n",
    "from sklearn.linear_model import LogisticRegression\n",
    "from sklearn.metrics import accuracy_score, auc, roc_auc_score\n",
    "import joblib"
   ]
  },
  {
   "cell_type": "code",
   "execution_count": 17,
   "id": "d0cda8af",
   "metadata": {},
   "outputs": [
    {
     "data": {
      "text/plain": [
       "['xiao', 'ji', 'zui', 'shuai']"
      ]
     },
     "execution_count": 17,
     "metadata": {},
     "output_type": "execute_result"
    }
   ],
   "source": [
    "lazy_pinyin('小纪最帅')"
   ]
  },
  {
   "cell_type": "code",
   "execution_count": 2,
   "id": "f2573b3c",
   "metadata": {},
   "outputs": [],
   "source": [
    "data=pd.read_csv('text_all.csv')"
   ]
  },
  {
   "cell_type": "code",
   "execution_count": 4,
   "id": "8acafa6d",
   "metadata": {},
   "outputs": [
    {
     "data": {
      "text/html": [
       "<div>\n",
       "<style scoped>\n",
       "    .dataframe tbody tr th:only-of-type {\n",
       "        vertical-align: middle;\n",
       "    }\n",
       "\n",
       "    .dataframe tbody tr th {\n",
       "        vertical-align: top;\n",
       "    }\n",
       "\n",
       "    .dataframe thead th {\n",
       "        text-align: right;\n",
       "    }\n",
       "</style>\n",
       "<table border=\"1\" class=\"dataframe\">\n",
       "  <thead>\n",
       "    <tr style=\"text-align: right;\">\n",
       "      <th></th>\n",
       "      <th>text</th>\n",
       "      <th>label</th>\n",
       "    </tr>\n",
       "  </thead>\n",
       "  <tbody>\n",
       "    <tr>\n",
       "      <th>0</th>\n",
       "      <td>颙 29526 Q 77544</td>\n",
       "      <td>1</td>\n",
       "    </tr>\n",
       "    <tr>\n",
       "      <th>1</th>\n",
       "      <td>﻿染-黄色 K U C 5 3 4</td>\n",
       "      <td>1</td>\n",
       "    </tr>\n",
       "    <tr>\n",
       "      <th>2</th>\n",
       "      <td>91网址求大哥</td>\n",
       "      <td>1</td>\n",
       "    </tr>\n",
       "    <tr>\n",
       "      <th>3</th>\n",
       "      <td>塞 CC-名字-看拼ᚰ</td>\n",
       "      <td>1</td>\n",
       "    </tr>\n",
       "    <tr>\n",
       "      <th>4</th>\n",
       "      <td>QQ网名！微信</td>\n",
       "      <td>0</td>\n",
       "    </tr>\n",
       "  </tbody>\n",
       "</table>\n",
       "</div>"
      ],
      "text/plain": [
       "                text  label\n",
       "0    颙 29526 Q 77544      1\n",
       "1  ﻿染-黄色 K U C 5 3 4      1\n",
       "2            91网址求大哥      1\n",
       "3        塞 CC-名字-看拼ᚰ      1\n",
       "4            QQ网名！微信      0"
      ]
     },
     "execution_count": 4,
     "metadata": {},
     "output_type": "execute_result"
    }
   ],
   "source": [
    "data.head()"
   ]
  },
  {
   "cell_type": "markdown",
   "id": "b4e8ea30",
   "metadata": {},
   "source": [
    "https://blog.csdn.net/Daisy4/article/details/121548990 df.sample 的解释"
   ]
  },
  {
   "cell_type": "code",
   "execution_count": 5,
   "id": "5d1d1c1a",
   "metadata": {},
   "outputs": [],
   "source": [
    "data=data.sample(frac=1,random_state=42) # frac 为抽取比例，random_state 为随机种子"
   ]
  },
  {
   "cell_type": "code",
   "execution_count": 6,
   "id": "035ea50f",
   "metadata": {},
   "outputs": [
    {
     "data": {
      "text/html": [
       "<div>\n",
       "<style scoped>\n",
       "    .dataframe tbody tr th:only-of-type {\n",
       "        vertical-align: middle;\n",
       "    }\n",
       "\n",
       "    .dataframe tbody tr th {\n",
       "        vertical-align: top;\n",
       "    }\n",
       "\n",
       "    .dataframe thead th {\n",
       "        text-align: right;\n",
       "    }\n",
       "</style>\n",
       "<table border=\"1\" class=\"dataframe\">\n",
       "  <thead>\n",
       "    <tr style=\"text-align: right;\">\n",
       "      <th></th>\n",
       "      <th>text</th>\n",
       "      <th>label</th>\n",
       "    </tr>\n",
       "  </thead>\n",
       "  <tbody>\n",
       "    <tr>\n",
       "      <th>17618</th>\n",
       "      <td>我要看靓仔的猛男♂时刻</td>\n",
       "      <td>0</td>\n",
       "    </tr>\n",
       "    <tr>\n",
       "      <th>7664</th>\n",
       "      <td>美国自驾游</td>\n",
       "      <td>0</td>\n",
       "    </tr>\n",
       "    <tr>\n",
       "      <th>18679</th>\n",
       "      <td>骗吃骗喝 美滋滋</td>\n",
       "      <td>0</td>\n",
       "    </tr>\n",
       "    <tr>\n",
       "      <th>8054</th>\n",
       "      <td>卖片卖片的</td>\n",
       "      <td>1</td>\n",
       "    </tr>\n",
       "    <tr>\n",
       "      <th>2495</th>\n",
       "      <td>8695 33334 粉逼加口</td>\n",
       "      <td>1</td>\n",
       "    </tr>\n",
       "  </tbody>\n",
       "</table>\n",
       "</div>"
      ],
      "text/plain": [
       "                  text  label\n",
       "17618      我要看靓仔的猛男♂时刻      0\n",
       "7664             美国自驾游      0\n",
       "18679         骗吃骗喝 美滋滋      0\n",
       "8054             卖片卖片的      1\n",
       "2495   8695 33334 粉逼加口      1"
      ]
     },
     "execution_count": 6,
     "metadata": {},
     "output_type": "execute_result"
    }
   ],
   "source": [
    "data.head()"
   ]
  },
  {
   "cell_type": "code",
   "execution_count": 7,
   "id": "7e008413",
   "metadata": {},
   "outputs": [
    {
     "data": {
      "text/plain": [
       "1    9882\n",
       "0    9788\n",
       "Name: label, dtype: int64"
      ]
     },
     "execution_count": 7,
     "metadata": {},
     "output_type": "execute_result"
    }
   ],
   "source": [
    "data['label'].value_counts()"
   ]
  },
  {
   "cell_type": "code",
   "execution_count": 8,
   "id": "7ad22e38",
   "metadata": {},
   "outputs": [],
   "source": [
    "data['text']=data['text'].apply(lambda x: ' '.join(x))"
   ]
  },
  {
   "cell_type": "code",
   "execution_count": 9,
   "id": "43affeb4",
   "metadata": {},
   "outputs": [
    {
     "data": {
      "text/html": [
       "<div>\n",
       "<style scoped>\n",
       "    .dataframe tbody tr th:only-of-type {\n",
       "        vertical-align: middle;\n",
       "    }\n",
       "\n",
       "    .dataframe tbody tr th {\n",
       "        vertical-align: top;\n",
       "    }\n",
       "\n",
       "    .dataframe thead th {\n",
       "        text-align: right;\n",
       "    }\n",
       "</style>\n",
       "<table border=\"1\" class=\"dataframe\">\n",
       "  <thead>\n",
       "    <tr style=\"text-align: right;\">\n",
       "      <th></th>\n",
       "      <th>text</th>\n",
       "      <th>label</th>\n",
       "    </tr>\n",
       "  </thead>\n",
       "  <tbody>\n",
       "    <tr>\n",
       "      <th>17618</th>\n",
       "      <td>我 要 看 靓 仔 的 猛 男 ♂ 时 刻</td>\n",
       "      <td>0</td>\n",
       "    </tr>\n",
       "    <tr>\n",
       "      <th>7664</th>\n",
       "      <td>美 国 自 驾 游</td>\n",
       "      <td>0</td>\n",
       "    </tr>\n",
       "    <tr>\n",
       "      <th>18679</th>\n",
       "      <td>骗 吃 骗 喝   美 滋 滋</td>\n",
       "      <td>0</td>\n",
       "    </tr>\n",
       "    <tr>\n",
       "      <th>8054</th>\n",
       "      <td>卖 片 卖 片 的</td>\n",
       "      <td>1</td>\n",
       "    </tr>\n",
       "    <tr>\n",
       "      <th>2495</th>\n",
       "      <td>8 6 9 5   3 3 3 3 4   粉 逼 加 口</td>\n",
       "      <td>1</td>\n",
       "    </tr>\n",
       "  </tbody>\n",
       "</table>\n",
       "</div>"
      ],
      "text/plain": [
       "                                text  label\n",
       "17618          我 要 看 靓 仔 的 猛 男 ♂ 时 刻      0\n",
       "7664                       美 国 自 驾 游      0\n",
       "18679                骗 吃 骗 喝   美 滋 滋      0\n",
       "8054                       卖 片 卖 片 的      1\n",
       "2495   8 6 9 5   3 3 3 3 4   粉 逼 加 口      1"
      ]
     },
     "execution_count": 9,
     "metadata": {},
     "output_type": "execute_result"
    }
   ],
   "source": [
    "data.head()"
   ]
  },
  {
   "cell_type": "code",
   "execution_count": 13,
   "id": "e687a5b2",
   "metadata": {},
   "outputs": [],
   "source": [
    "x_train,x_test,y_train,y_test=train_test_split(\n",
    "data['text'],data['label'],test_size=0.2,random_state=42)"
   ]
  },
  {
   "cell_type": "code",
   "execution_count": 14,
   "id": "afdd9872",
   "metadata": {},
   "outputs": [
    {
     "name": "stdout",
     "output_type": "stream",
     "text": [
      "(15736,) (3934,) (15736,) (3934,)\n"
     ]
    }
   ],
   "source": [
    "print(x_train.shape, x_test.shape, y_train.shape, y_test.shape)"
   ]
  },
  {
   "cell_type": "code",
   "execution_count": 22,
   "id": "33ca8a1f",
   "metadata": {},
   "outputs": [],
   "source": [
    "vectorizer_word=TfidfVectorizer(\n",
    "    max_features=800000,                              \n",
    "    token_pattern=r\"(?u)\\b\\w+\\b\",                                   \n",
    "    min_df=5,                              \n",
    "#max_df=0.1,                               \n",
    "    analyzer='word',                               \n",
    "    ngram_range=(2,5) \n",
    ")"
   ]
  },
  {
   "cell_type": "code",
   "execution_count": 23,
   "id": "971fcc9b",
   "metadata": {},
   "outputs": [],
   "source": [
    "vectorizer_word.fit(x_train) \n",
    "tfidf_word_train = vectorizer_word.transform(x_train) \n",
    "tfidf_word_test  = vectorizer_word.transform(x_test)"
   ]
  },
  {
   "cell_type": "code",
   "execution_count": 55,
   "id": "1b6d83f7",
   "metadata": {},
   "outputs": [
    {
     "name": "stdout",
     "output_type": "stream",
     "text": [
      "42429\n"
     ]
    }
   ],
   "source": [
    "print(len(vectorizer_word.vocabulary_)) #词袋"
   ]
  },
  {
   "cell_type": "markdown",
   "id": "ba17b120",
   "metadata": {},
   "source": [
    "17.token_pattern: \"(?u)\\b\\w+\\b\"\n",
    "解析：\n",
    "[1](?u)：对Unicode符大小写不敏感。\n",
    "[2]\\b：匹配单词的开始或结束。\n",
    "[3]\\w：匹配字母或数字或下划线或汉字。\n",
    "[4].：匹配除换行符以外的任意字符。\n",
    "[5]\\s：匹配任意的空白符。\n",
    "[6]\\d：匹配数字。\n",
    "[7]\\w+：匹配一个或者多个字母或数字或下划线或汉字。\n",
    "[8](?u)\\b\\w+\\b：这个正则表达式会忽略掉单个的字符。\n",
    "[9](?u)\\b\\w\\w+\\b：这个正则表达式不会忽略掉单个的字符。\n",
    "说明：说明；\\b代表字与字中间那个看不见的东西，比如here is a word。那么这句中有好几个\\b，每个单词的前后都有一个\\b。"
   ]
  },
  {
   "cell_type": "markdown",
   "id": "a6ef3d55",
   "metadata": {},
   "source": [
    "def init_params(label='TfidfVectorizer'):\n",
    "    params_count={\n",
    "        'analyzer': 'word',  # 取值'word'-分词结果为词级、'char'-字符级(结果会出现he is，空格在中间的情况)、'char_wb'-字符级(以单词为边界)，默认值为'word'\n",
    "        'binary': False,  # boolean类型，设置为True，则所有非零计数都设置为1.（即，tf的值只有0和1，表示出现和不出现）\n",
    "        'decode_error': 'strict',\n",
    "        'dtype': np.float64, # 输出矩阵的数值类型\n",
    "        'encoding': 'utf-8',\n",
    "        'input': 'content', # 取值filename，文本内容所在的文件名；file，序列项必须有一个'read'方法，被调用来获取内存中的字节；content，直接输入文本字符串\n",
    "        'lowercase': True, # boolean类型，计算之前是否将所有字符转换为小写。\n",
    "        'max_df': 1.0, # 词汇表中忽略文档频率高于该值的词；取值在[0,1]之间的小数时表示文档频率的阈值，取值为整数时(>1)表示文档频数的阈值；如果设置了vocabulary，则忽略此参数。\n",
    "        'min_df': 1, # 词汇表中忽略文档频率低于该值的词；取值在[0,1]之间的小数时表示文档频率的阈值，取值为整数时(>1)表示文档频数的阈值；如果设置了vocabulary，则忽略此参数。\n",
    "        'max_features': None, # int或 None(默认值).设置int值时建立一个词汇表，仅用词频排序的前max_features个词创建语料库；如果设置了vocabulary，则忽略此参数。\n",
    "        'ngram_range': (1, 2),  # 要提取的n-grams中n值范围的下限和上限，min_n <= n <= max_n。\n",
    "        'preprocessor': None, # 覆盖预处理（字符串转换）阶段，同时保留标记化和 n-gram 生成步骤。仅适用于analyzer不可调用的情况。\n",
    "        'stop_words': 'english', # 仅适用于analyzer='word'。取值english，使用内置的英语停用词表；list，自行设置停停用词列表；默认值None，不会处理停用词\n",
    "        'strip_accents': None,\n",
    "        'token_pattern': '(?u)\\\\b\\\\w\\\\w+\\\\b', # 分词方式、正则表达式，默认筛选长度>=2的字母和数字混合字符（标点符号被当作分隔符）。仅在analyzer='word'时使用。\n",
    "        'tokenizer': None, # 覆盖字符串标记化步骤，同时保留预处理和 n-gram 生成步骤。仅适用于analyzer='word'\n",
    "        'vocabulary': None, # 自行设置词汇表（可设置字典），如果没有给出，则从输入文件/文本中确定词汇表\n",
    "    }\n",
    "    params_tfidf={\n",
    "        'norm': None, # 输出结果是否标准化/归一化。l2：向量元素的平方和为1，当应用l2范数时，两个向量之间的余弦相似度是它们的点积；l1：向量元素的绝对值之和为1\n",
    "        'smooth_idf': True, # 在文档频率上加1来平滑 idf ，避免分母为0\n",
    "        'sublinear_tf': False, # 应用次线性 tf 缩放，即将 tf 替换为 1 + log(tf)\n",
    "        'use_idf': True, # 是否计算idf，布尔值，False时idf=1。\n",
    "    }\n",
    "    if label=='CountVectorizer':\n",
    "        return params_count\n",
    "    elif label=='TfidfTransformer':\n",
    "        return params_tfidf\n",
    "    elif label=='TfidfVectorizer':\n",
    "        params_count.update(params_tfidf)\n",
    "        return params_count"
   ]
  },
  {
   "cell_type": "code",
   "execution_count": 26,
   "id": "c731aa5a",
   "metadata": {},
   "outputs": [
    {
     "data": {
      "text/html": [
       "<div>\n",
       "<style scoped>\n",
       "    .dataframe tbody tr th:only-of-type {\n",
       "        vertical-align: middle;\n",
       "    }\n",
       "\n",
       "    .dataframe tbody tr th {\n",
       "        vertical-align: top;\n",
       "    }\n",
       "\n",
       "    .dataframe thead th {\n",
       "        text-align: right;\n",
       "    }\n",
       "</style>\n",
       "<table border=\"1\" class=\"dataframe\">\n",
       "  <thead>\n",
       "    <tr style=\"text-align: right;\">\n",
       "      <th></th>\n",
       "      <th>text</th>\n",
       "      <th>label</th>\n",
       "    </tr>\n",
       "  </thead>\n",
       "  <tbody>\n",
       "    <tr>\n",
       "      <th>0</th>\n",
       "      <td>yong  29526 Q 77544</td>\n",
       "      <td>1</td>\n",
       "    </tr>\n",
       "    <tr>\n",
       "      <th>1</th>\n",
       "      <td>﻿ ran - huang se  K U C 5 3 4</td>\n",
       "      <td>1</td>\n",
       "    </tr>\n",
       "    <tr>\n",
       "      <th>2</th>\n",
       "      <td>91 wang zhi qiu da ge</td>\n",
       "      <td>1</td>\n",
       "    </tr>\n",
       "    <tr>\n",
       "      <th>3</th>\n",
       "      <td>sai  CC- ming zi - kan pin ᚰ</td>\n",
       "      <td>1</td>\n",
       "    </tr>\n",
       "    <tr>\n",
       "      <th>4</th>\n",
       "      <td>QQ wang ming ！ wei xin</td>\n",
       "      <td>0</td>\n",
       "    </tr>\n",
       "  </tbody>\n",
       "</table>\n",
       "</div>"
      ],
      "text/plain": [
       "                            text  label\n",
       "0            yong  29526 Q 77544      1\n",
       "1  ﻿ ran - huang se  K U C 5 3 4      1\n",
       "2          91 wang zhi qiu da ge      1\n",
       "3   sai  CC- ming zi - kan pin ᚰ      1\n",
       "4         QQ wang ming ！ wei xin      0"
      ]
     },
     "execution_count": 26,
     "metadata": {},
     "output_type": "execute_result"
    }
   ],
   "source": [
    "data=pd.read_csv('text_all.csv')\n",
    "data['text']=data['text'].apply(lambda x: ' '.join(lazy_pinyin(x)))\n",
    "data.head()"
   ]
  },
  {
   "cell_type": "code",
   "execution_count": 28,
   "id": "cbe2bacc",
   "metadata": {},
   "outputs": [],
   "source": [
    "x_train,x_test,y_train,y_test=train_test_split(\n",
    "data['text'],data['label'],test_size=0.2,random_state=42)"
   ]
  },
  {
   "cell_type": "code",
   "execution_count": 29,
   "id": "9924c295",
   "metadata": {},
   "outputs": [],
   "source": [
    "vectorizer_word = TfidfVectorizer(max_features=800000,\n",
    "                             min_df = 5, \n",
    "                             analyzer='char', \n",
    "                             ngram_range=(1,7)\n",
    "                             )\n",
    "\n",
    "vectorizer_word.fit(x_train)\n",
    "\n",
    "tfidf_pinyin_train = vectorizer_word.transform(x_train)\n",
    "tfidf_pinyin_test  = vectorizer_word.transform(x_test)"
   ]
  },
  {
   "cell_type": "code",
   "execution_count": 31,
   "id": "4b158dad",
   "metadata": {},
   "outputs": [
    {
     "name": "stdout",
     "output_type": "stream",
     "text": [
      "42429\n"
     ]
    }
   ],
   "source": [
    "print(len(vectorizer_word.vocabulary_)) #查看词袋"
   ]
  },
  {
   "cell_type": "code",
   "execution_count": 33,
   "id": "fae3993d",
   "metadata": {},
   "outputs": [],
   "source": [
    "import scipy.sparse as sp #组合向量\n",
    "tfidf_all_train = sp.hstack((tfidf_word_train,tfidf_pinyin_train))\n",
    "tfidf_all_test  = sp.hstack((tfidf_word_test,tfidf_pinyin_test))"
   ]
  },
  {
   "cell_type": "code",
   "execution_count": 48,
   "id": "c4930b89",
   "metadata": {},
   "outputs": [
    {
     "name": "stderr",
     "output_type": "stream",
     "text": [
      "[Parallel(n_jobs=1)]: Using backend SequentialBackend with 1 concurrent workers.\n"
     ]
    },
    {
     "name": "stdout",
     "output_type": "stream",
     "text": [
      "convergence after 34 epochs took 1 seconds\n"
     ]
    },
    {
     "name": "stderr",
     "output_type": "stream",
     "text": [
      "[Parallel(n_jobs=1)]: Done   1 out of   1 | elapsed:    0.6s remaining:    0.0s\n",
      "[Parallel(n_jobs=1)]: Done   1 out of   1 | elapsed:    0.6s finished\n"
     ]
    },
    {
     "data": {
      "text/plain": [
       "LogisticRegression(C=5.0, solver='sag', verbose=2)"
      ]
     },
     "execution_count": 48,
     "metadata": {},
     "output_type": "execute_result"
    }
   ],
   "source": [
    "lr_word = LogisticRegression(solver='sag',  #梯度下降\n",
    "                             verbose=2,\n",
    "                             C=5.0 #正则化强度，倒数。\n",
    "                             )\n",
    "lr_word.fit(tfidf_all_train, y_train)"
   ]
  },
  {
   "cell_type": "code",
   "execution_count": 49,
   "id": "dc586ff9",
   "metadata": {},
   "outputs": [],
   "source": [
    "y_pred_word = lr_word.predict(tfidf_all_test)"
   ]
  },
  {
   "cell_type": "code",
   "execution_count": 50,
   "id": "dba4655a",
   "metadata": {},
   "outputs": [
    {
     "name": "stdout",
     "output_type": "stream",
     "text": [
      "0.9580579562785968\n"
     ]
    }
   ],
   "source": [
    "print(accuracy_score(y_test, y_pred_word))"
   ]
  },
  {
   "cell_type": "code",
   "execution_count": 52,
   "id": "58ca82e0",
   "metadata": {},
   "outputs": [
    {
     "data": {
      "text/html": [
       "<div>\n",
       "<style scoped>\n",
       "    .dataframe tbody tr th:only-of-type {\n",
       "        vertical-align: middle;\n",
       "    }\n",
       "\n",
       "    .dataframe tbody tr th {\n",
       "        vertical-align: top;\n",
       "    }\n",
       "\n",
       "    .dataframe thead th {\n",
       "        text-align: right;\n",
       "    }\n",
       "</style>\n",
       "<table border=\"1\" class=\"dataframe\">\n",
       "  <thead>\n",
       "    <tr style=\"text-align: right;\">\n",
       "      <th></th>\n",
       "      <th>text</th>\n",
       "      <th>label</th>\n",
       "      <th>pred</th>\n",
       "    </tr>\n",
       "  </thead>\n",
       "  <tbody>\n",
       "    <tr>\n",
       "      <th>6126</th>\n",
       "      <td>__𝐂𝐃１６７</td>\n",
       "      <td>1</td>\n",
       "      <td>0</td>\n",
       "    </tr>\n",
       "    <tr>\n",
       "      <th>12636</th>\n",
       "      <td>mlc2747141543</td>\n",
       "      <td>1</td>\n",
       "      <td>0</td>\n",
       "    </tr>\n",
       "    <tr>\n",
       "      <th>4084</th>\n",
       "      <td>加我VX----a13713637668</td>\n",
       "      <td>1</td>\n",
       "      <td>0</td>\n",
       "    </tr>\n",
       "    <tr>\n",
       "      <th>19364</th>\n",
       "      <td>看名字诚心卖</td>\n",
       "      <td>1</td>\n",
       "      <td>0</td>\n",
       "    </tr>\n",
       "    <tr>\n",
       "      <th>14059</th>\n",
       "      <td>扣扣937787511</td>\n",
       "      <td>0</td>\n",
       "      <td>1</td>\n",
       "    </tr>\n",
       "    <tr>\n",
       "      <th>...</th>\n",
       "      <td>...</td>\n",
       "      <td>...</td>\n",
       "      <td>...</td>\n",
       "    </tr>\n",
       "    <tr>\n",
       "      <th>3100</th>\n",
       "      <td>泡泡买看好  ZZ1600的</td>\n",
       "      <td>1</td>\n",
       "      <td>0</td>\n",
       "    </tr>\n",
       "    <tr>\n",
       "      <th>8550</th>\n",
       "      <td>篇国找C3003D</td>\n",
       "      <td>1</td>\n",
       "      <td>0</td>\n",
       "    </tr>\n",
       "    <tr>\n",
       "      <th>12954</th>\n",
       "      <td>网址？</td>\n",
       "      <td>0</td>\n",
       "      <td>1</td>\n",
       "    </tr>\n",
       "    <tr>\n",
       "      <th>6885</th>\n",
       "      <td>D.国.著.名.影.星.名.字</td>\n",
       "      <td>1</td>\n",
       "      <td>0</td>\n",
       "    </tr>\n",
       "    <tr>\n",
       "      <th>14238</th>\n",
       "      <td>C🇦D570自己</td>\n",
       "      <td>1</td>\n",
       "      <td>0</td>\n",
       "    </tr>\n",
       "  </tbody>\n",
       "</table>\n",
       "<p>165 rows × 3 columns</p>\n",
       "</div>"
      ],
      "text/plain": [
       "                       text  label  pred\n",
       "6126                __𝐂𝐃１６７      1     0\n",
       "12636         mlc2747141543      1     0\n",
       "4084   加我VX----a13713637668      1     0\n",
       "19364                看名字诚心卖      1     0\n",
       "14059           扣扣937787511      0     1\n",
       "...                     ...    ...   ...\n",
       "3100         泡泡买看好  ZZ1600的      1     0\n",
       "8550              篇国找C3003D      1     0\n",
       "12954                   网址？      0     1\n",
       "6885        D.国.著.名.影.星.名.字      1     0\n",
       "14238              C🇦D570自己      1     0\n",
       "\n",
       "[165 rows x 3 columns]"
      ]
     },
     "execution_count": 52,
     "metadata": {},
     "output_type": "execute_result"
    }
   ],
   "source": [
    "# 预测错误的数值\n",
    "data = pd.read_csv('text_all.csv')\n",
    "x_train, x_test, y_train, y_test = train_test_split(\n",
    "                     data['text'], \n",
    "                     data['label'], \n",
    "                     test_size=0.2, \n",
    "                     random_state=42\n",
    "                     )\n",
    "df = pd.DataFrame({'text':x_test,'label':y_test,'pred':y_pred_word})\n",
    "df[df['label']!=df['pred']]"
   ]
  },
  {
   "cell_type": "code",
   "execution_count": 59,
   "id": "89eec97c",
   "metadata": {},
   "outputs": [],
   "source": [
    "import numpy as np\n",
    "import matplotlib.pyplot as plt\n",
    "import seaborn as sns\n",
    "plt.rcParams['font.sans-serif']=['KaiTi']\n",
    "plt.rcParams['axes.unicode_minus']=False"
   ]
  },
  {
   "cell_type": "code",
   "execution_count": null,
   "id": "2631d648",
   "metadata": {},
   "outputs": [],
   "source": [
    "\n",
    "pos_df = pd.DataFrame([line.replace('\\n', '') for line in open('positive.txt',encoding='utf-8').readlines()],columns=['text'])\n",
    "pos_df['label']=1    #正面标签为1\n",
    "neg_df = pd.DataFrame([line.replace('\\n', '') for line in open('negtive.txt',encoding='utf-8').readlines()],columns=['text'])\n",
    "neg_df['label']=0 "
   ]
  }
 ],
 "metadata": {
  "kernelspec": {
   "display_name": "Python 3 (ipykernel)",
   "language": "python",
   "name": "python3"
  },
  "language_info": {
   "codemirror_mode": {
    "name": "ipython",
    "version": 3
   },
   "file_extension": ".py",
   "mimetype": "text/x-python",
   "name": "python",
   "nbconvert_exporter": "python",
   "pygments_lexer": "ipython3",
   "version": "3.9.13"
  }
 },
 "nbformat": 4,
 "nbformat_minor": 5
}
