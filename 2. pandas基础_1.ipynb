{
 "cells": [
  {
   "cell_type": "code",
   "execution_count": 2,
   "metadata": {
    "collapsed": true
   },
   "outputs": [],
   "source": [
    "import pandas as pd"
   ]
  },
  {
   "cell_type": "code",
   "execution_count": 3,
   "metadata": {
    "collapsed": true
   },
   "outputs": [],
   "source": [
    "orders=pd.read_table('data/Global Superstore Returns 2016_zh-CN.csv')"
   ]
  },
  {
   "cell_type": "code",
   "execution_count": 4,
   "metadata": {},
   "outputs": [
    {
     "data": {
      "text/html": [
       "<div>\n",
       "<style scoped>\n",
       "    .dataframe tbody tr th:only-of-type {\n",
       "        vertical-align: middle;\n",
       "    }\n",
       "\n",
       "    .dataframe tbody tr th {\n",
       "        vertical-align: top;\n",
       "    }\n",
       "\n",
       "    .dataframe thead th {\n",
       "        text-align: right;\n",
       "    }\n",
       "</style>\n",
       "<table border=\"1\" class=\"dataframe\">\n",
       "  <thead>\n",
       "    <tr style=\"text-align: right;\">\n",
       "      <th></th>\n",
       "      <th>已退回,订单 ID,地区</th>\n",
       "    </tr>\n",
       "  </thead>\n",
       "  <tbody>\n",
       "    <tr>\n",
       "      <th>0</th>\n",
       "      <td>是,CA-2012-SA20830140-41210,美国中部</td>\n",
       "    </tr>\n",
       "    <tr>\n",
       "      <th>1</th>\n",
       "      <td>是,IN-2012-PB19210127-41259,东亚</td>\n",
       "    </tr>\n",
       "    <tr>\n",
       "      <th>2</th>\n",
       "      <td>是,CA-2012-SC20095140-41174,美国中部</td>\n",
       "    </tr>\n",
       "    <tr>\n",
       "      <th>3</th>\n",
       "      <td>是,IN-2015-JH158207-42140,大洋洲</td>\n",
       "    </tr>\n",
       "    <tr>\n",
       "      <th>4</th>\n",
       "      <td>是,IN-2014-LC168857-41747,大洋洲</td>\n",
       "    </tr>\n",
       "  </tbody>\n",
       "</table>\n",
       "</div>"
      ],
      "text/plain": [
       "                      已退回,订单 ID,地区\n",
       "0  是,CA-2012-SA20830140-41210,美国中部\n",
       "1    是,IN-2012-PB19210127-41259,东亚\n",
       "2  是,CA-2012-SC20095140-41174,美国中部\n",
       "3     是,IN-2015-JH158207-42140,大洋洲\n",
       "4     是,IN-2014-LC168857-41747,大洋洲"
      ]
     },
     "execution_count": 4,
     "metadata": {},
     "output_type": "execute_result"
    }
   ],
   "source": [
    "orders.head()"
   ]
  },
  {
   "cell_type": "code",
   "execution_count": 29,
   "metadata": {
    "collapsed": true
   },
   "outputs": [],
   "source": [
    "#如果第一行不是标题，则在括号里面添加，head=NONE\n",
    "#以什么分割用SEP\n",
    "orders=pd.read_table('data/Global Superstore Returns 2016_zh-CN.csv',sep=',',header=None)"
   ]
  },
  {
   "cell_type": "code",
   "execution_count": 30,
   "metadata": {},
   "outputs": [
    {
     "data": {
      "text/html": [
       "<div>\n",
       "<style scoped>\n",
       "    .dataframe tbody tr th:only-of-type {\n",
       "        vertical-align: middle;\n",
       "    }\n",
       "\n",
       "    .dataframe tbody tr th {\n",
       "        vertical-align: top;\n",
       "    }\n",
       "\n",
       "    .dataframe thead th {\n",
       "        text-align: right;\n",
       "    }\n",
       "</style>\n",
       "<table border=\"1\" class=\"dataframe\">\n",
       "  <thead>\n",
       "    <tr style=\"text-align: right;\">\n",
       "      <th></th>\n",
       "      <th>0</th>\n",
       "      <th>1</th>\n",
       "      <th>2</th>\n",
       "    </tr>\n",
       "  </thead>\n",
       "  <tbody>\n",
       "    <tr>\n",
       "      <th>0</th>\n",
       "      <td>已退回</td>\n",
       "      <td>订单 ID</td>\n",
       "      <td>地区</td>\n",
       "    </tr>\n",
       "    <tr>\n",
       "      <th>1</th>\n",
       "      <td>是</td>\n",
       "      <td>CA-2012-SA20830140-41210</td>\n",
       "      <td>美国中部</td>\n",
       "    </tr>\n",
       "    <tr>\n",
       "      <th>2</th>\n",
       "      <td>是</td>\n",
       "      <td>IN-2012-PB19210127-41259</td>\n",
       "      <td>东亚</td>\n",
       "    </tr>\n",
       "    <tr>\n",
       "      <th>3</th>\n",
       "      <td>是</td>\n",
       "      <td>CA-2012-SC20095140-41174</td>\n",
       "      <td>美国中部</td>\n",
       "    </tr>\n",
       "    <tr>\n",
       "      <th>4</th>\n",
       "      <td>是</td>\n",
       "      <td>IN-2015-JH158207-42140</td>\n",
       "      <td>大洋洲</td>\n",
       "    </tr>\n",
       "  </tbody>\n",
       "</table>\n",
       "</div>"
      ],
      "text/plain": [
       "     0                         1     2\n",
       "0  已退回                     订单 ID    地区\n",
       "1    是  CA-2012-SA20830140-41210  美国中部\n",
       "2    是  IN-2012-PB19210127-41259    东亚\n",
       "3    是  CA-2012-SC20095140-41174  美国中部\n",
       "4    是    IN-2015-JH158207-42140   大洋洲"
      ]
     },
     "execution_count": 30,
     "metadata": {},
     "output_type": "execute_result"
    }
   ],
   "source": [
    "orders.head()"
   ]
  },
  {
   "cell_type": "code",
   "execution_count": 31,
   "metadata": {
    "collapsed": true
   },
   "outputs": [],
   "source": [
    "user_cols=[\"已退回\",\"订单\",\"地区\"]\n",
    "orders=pd.read_table('data/Global Superstore Returns 2016_zh-CN.csv',sep=',',skiprows=1,names=user_cols)"
   ]
  },
  {
   "cell_type": "code",
   "execution_count": 32,
   "metadata": {
    "collapsed": true
   },
   "outputs": [],
   "source": [
    "#定义一个词组，然后给names字段，之后就可以更改标题\n",
    "#skiprows=1.忽略第一行"
   ]
  },
  {
   "cell_type": "code",
   "execution_count": 33,
   "metadata": {},
   "outputs": [
    {
     "data": {
      "text/html": [
       "<div>\n",
       "<style scoped>\n",
       "    .dataframe tbody tr th:only-of-type {\n",
       "        vertical-align: middle;\n",
       "    }\n",
       "\n",
       "    .dataframe tbody tr th {\n",
       "        vertical-align: top;\n",
       "    }\n",
       "\n",
       "    .dataframe thead th {\n",
       "        text-align: right;\n",
       "    }\n",
       "</style>\n",
       "<table border=\"1\" class=\"dataframe\">\n",
       "  <thead>\n",
       "    <tr style=\"text-align: right;\">\n",
       "      <th></th>\n",
       "      <th>已退回</th>\n",
       "      <th>订单</th>\n",
       "      <th>地区</th>\n",
       "    </tr>\n",
       "  </thead>\n",
       "  <tbody>\n",
       "    <tr>\n",
       "      <th>0</th>\n",
       "      <td>是</td>\n",
       "      <td>CA-2012-SA20830140-41210</td>\n",
       "      <td>美国中部</td>\n",
       "    </tr>\n",
       "    <tr>\n",
       "      <th>1</th>\n",
       "      <td>是</td>\n",
       "      <td>IN-2012-PB19210127-41259</td>\n",
       "      <td>东亚</td>\n",
       "    </tr>\n",
       "    <tr>\n",
       "      <th>2</th>\n",
       "      <td>是</td>\n",
       "      <td>CA-2012-SC20095140-41174</td>\n",
       "      <td>美国中部</td>\n",
       "    </tr>\n",
       "    <tr>\n",
       "      <th>3</th>\n",
       "      <td>是</td>\n",
       "      <td>IN-2015-JH158207-42140</td>\n",
       "      <td>大洋洲</td>\n",
       "    </tr>\n",
       "    <tr>\n",
       "      <th>4</th>\n",
       "      <td>是</td>\n",
       "      <td>IN-2014-LC168857-41747</td>\n",
       "      <td>大洋洲</td>\n",
       "    </tr>\n",
       "  </tbody>\n",
       "</table>\n",
       "</div>"
      ],
      "text/plain": [
       "  已退回                        订单    地区\n",
       "0   是  CA-2012-SA20830140-41210  美国中部\n",
       "1   是  IN-2012-PB19210127-41259    东亚\n",
       "2   是  CA-2012-SC20095140-41174  美国中部\n",
       "3   是    IN-2015-JH158207-42140   大洋洲\n",
       "4   是    IN-2014-LC168857-41747   大洋洲"
      ]
     },
     "execution_count": 33,
     "metadata": {},
     "output_type": "execute_result"
    }
   ],
   "source": [
    "orders.head()"
   ]
  },
  {
   "cell_type": "code",
   "execution_count": 34,
   "metadata": {
    "collapsed": true
   },
   "outputs": [],
   "source": [
    "#pd.read_csv(#使用的就是SEP=',')"
   ]
  },
  {
   "cell_type": "code",
   "execution_count": 35,
   "metadata": {},
   "outputs": [
    {
     "data": {
      "text/plain": [
       "pandas.core.frame.DataFrame"
      ]
     },
     "execution_count": 35,
     "metadata": {},
     "output_type": "execute_result"
    }
   ],
   "source": [
    "type(orders)"
   ]
  },
  {
   "cell_type": "code",
   "execution_count": 36,
   "metadata": {},
   "outputs": [
    {
     "data": {
      "text/plain": [
       "0    美国中部\n",
       "1      东亚\n",
       "2    美国中部\n",
       "3     大洋洲\n",
       "4     大洋洲\n",
       "Name: 地区, dtype: object"
      ]
     },
     "execution_count": 36,
     "metadata": {},
     "output_type": "execute_result"
    }
   ],
   "source": [
    "orders[\"地区\"].head()"
   ]
  },
  {
   "cell_type": "code",
   "execution_count": 37,
   "metadata": {},
   "outputs": [
    {
     "data": {
      "text/plain": [
       "(1079, 3)"
      ]
     },
     "execution_count": 37,
     "metadata": {},
     "output_type": "execute_result"
    }
   ],
   "source": [
    "orders.shape"
   ]
  },
  {
   "cell_type": "code",
   "execution_count": 38,
   "metadata": {},
   "outputs": [
    {
     "data": {
      "text/plain": [
       "'abcd'"
      ]
     },
     "execution_count": 38,
     "metadata": {},
     "output_type": "execute_result"
    }
   ],
   "source": [
    "'ab'+'cd'"
   ]
  },
  {
   "cell_type": "code",
   "execution_count": 39,
   "metadata": {
    "collapsed": true
   },
   "outputs": [],
   "source": [
    "orders[\"合并列\"]=orders[\"已退回\"]+','+orders[\"地区\"]"
   ]
  },
  {
   "cell_type": "code",
   "execution_count": 40,
   "metadata": {},
   "outputs": [
    {
     "data": {
      "text/html": [
       "<div>\n",
       "<style scoped>\n",
       "    .dataframe tbody tr th:only-of-type {\n",
       "        vertical-align: middle;\n",
       "    }\n",
       "\n",
       "    .dataframe tbody tr th {\n",
       "        vertical-align: top;\n",
       "    }\n",
       "\n",
       "    .dataframe thead th {\n",
       "        text-align: right;\n",
       "    }\n",
       "</style>\n",
       "<table border=\"1\" class=\"dataframe\">\n",
       "  <thead>\n",
       "    <tr style=\"text-align: right;\">\n",
       "      <th></th>\n",
       "      <th>已退回</th>\n",
       "      <th>订单</th>\n",
       "      <th>地区</th>\n",
       "      <th>合并列</th>\n",
       "    </tr>\n",
       "  </thead>\n",
       "  <tbody>\n",
       "    <tr>\n",
       "      <th>0</th>\n",
       "      <td>是</td>\n",
       "      <td>CA-2012-SA20830140-41210</td>\n",
       "      <td>美国中部</td>\n",
       "      <td>是,美国中部</td>\n",
       "    </tr>\n",
       "    <tr>\n",
       "      <th>1</th>\n",
       "      <td>是</td>\n",
       "      <td>IN-2012-PB19210127-41259</td>\n",
       "      <td>东亚</td>\n",
       "      <td>是,东亚</td>\n",
       "    </tr>\n",
       "    <tr>\n",
       "      <th>2</th>\n",
       "      <td>是</td>\n",
       "      <td>CA-2012-SC20095140-41174</td>\n",
       "      <td>美国中部</td>\n",
       "      <td>是,美国中部</td>\n",
       "    </tr>\n",
       "    <tr>\n",
       "      <th>3</th>\n",
       "      <td>是</td>\n",
       "      <td>IN-2015-JH158207-42140</td>\n",
       "      <td>大洋洲</td>\n",
       "      <td>是,大洋洲</td>\n",
       "    </tr>\n",
       "    <tr>\n",
       "      <th>4</th>\n",
       "      <td>是</td>\n",
       "      <td>IN-2014-LC168857-41747</td>\n",
       "      <td>大洋洲</td>\n",
       "      <td>是,大洋洲</td>\n",
       "    </tr>\n",
       "  </tbody>\n",
       "</table>\n",
       "</div>"
      ],
      "text/plain": [
       "  已退回                        订单    地区     合并列\n",
       "0   是  CA-2012-SA20830140-41210  美国中部  是,美国中部\n",
       "1   是  IN-2012-PB19210127-41259    东亚    是,东亚\n",
       "2   是  CA-2012-SC20095140-41174  美国中部  是,美国中部\n",
       "3   是    IN-2015-JH158207-42140   大洋洲   是,大洋洲\n",
       "4   是    IN-2014-LC168857-41747   大洋洲   是,大洋洲"
      ]
     },
     "execution_count": 40,
     "metadata": {},
     "output_type": "execute_result"
    }
   ],
   "source": [
    "orders.head()#creat a new column"
   ]
  },
  {
   "cell_type": "code",
   "execution_count": 41,
   "metadata": {},
   "outputs": [
    {
     "data": {
      "text/html": [
       "<div>\n",
       "<style scoped>\n",
       "    .dataframe tbody tr th:only-of-type {\n",
       "        vertical-align: middle;\n",
       "    }\n",
       "\n",
       "    .dataframe tbody tr th {\n",
       "        vertical-align: top;\n",
       "    }\n",
       "\n",
       "    .dataframe thead th {\n",
       "        text-align: right;\n",
       "    }\n",
       "</style>\n",
       "<table border=\"1\" class=\"dataframe\">\n",
       "  <thead>\n",
       "    <tr style=\"text-align: right;\">\n",
       "      <th></th>\n",
       "      <th>已退回</th>\n",
       "      <th>订单</th>\n",
       "      <th>地区</th>\n",
       "      <th>合并列</th>\n",
       "    </tr>\n",
       "  </thead>\n",
       "  <tbody>\n",
       "    <tr>\n",
       "      <th>count</th>\n",
       "      <td>1079</td>\n",
       "      <td>1079</td>\n",
       "      <td>1079</td>\n",
       "      <td>1079</td>\n",
       "    </tr>\n",
       "    <tr>\n",
       "      <th>unique</th>\n",
       "      <td>1</td>\n",
       "      <td>1079</td>\n",
       "      <td>24</td>\n",
       "      <td>24</td>\n",
       "    </tr>\n",
       "    <tr>\n",
       "      <th>top</th>\n",
       "      <td>是</td>\n",
       "      <td>MX-2014-TG216405-41952</td>\n",
       "      <td>西欧</td>\n",
       "      <td>是,西欧</td>\n",
       "    </tr>\n",
       "    <tr>\n",
       "      <th>freq</th>\n",
       "      <td>1079</td>\n",
       "      <td>1</td>\n",
       "      <td>121</td>\n",
       "      <td>121</td>\n",
       "    </tr>\n",
       "  </tbody>\n",
       "</table>\n",
       "</div>"
      ],
      "text/plain": [
       "         已退回                      订单    地区   合并列\n",
       "count   1079                    1079  1079  1079\n",
       "unique     1                    1079    24    24\n",
       "top        是  MX-2014-TG216405-41952    西欧  是,西欧\n",
       "freq    1079                       1   121   121"
      ]
     },
     "execution_count": 41,
     "metadata": {},
     "output_type": "execute_result"
    }
   ],
   "source": [
    "orders.describe()#用于数据会更好，统计一些东西"
   ]
  },
  {
   "cell_type": "code",
   "execution_count": 42,
   "metadata": {},
   "outputs": [
    {
     "data": {
      "text/plain": [
       "已退回    object\n",
       "订单     object\n",
       "地区     object\n",
       "合并列    object\n",
       "dtype: object"
      ]
     },
     "execution_count": 42,
     "metadata": {},
     "output_type": "execute_result"
    }
   ],
   "source": [
    "orders.dtypes"
   ]
  },
  {
   "cell_type": "code",
   "execution_count": 43,
   "metadata": {},
   "outputs": [
    {
     "data": {
      "text/html": [
       "<div>\n",
       "<style scoped>\n",
       "    .dataframe tbody tr th:only-of-type {\n",
       "        vertical-align: middle;\n",
       "    }\n",
       "\n",
       "    .dataframe tbody tr th {\n",
       "        vertical-align: top;\n",
       "    }\n",
       "\n",
       "    .dataframe thead th {\n",
       "        text-align: right;\n",
       "    }\n",
       "</style>\n",
       "<table border=\"1\" class=\"dataframe\">\n",
       "  <thead>\n",
       "    <tr style=\"text-align: right;\">\n",
       "      <th></th>\n",
       "      <th>已退回</th>\n",
       "      <th>订单</th>\n",
       "      <th>地区</th>\n",
       "      <th>合并列</th>\n",
       "    </tr>\n",
       "  </thead>\n",
       "  <tbody>\n",
       "    <tr>\n",
       "      <th>count</th>\n",
       "      <td>1079</td>\n",
       "      <td>1079</td>\n",
       "      <td>1079</td>\n",
       "      <td>1079</td>\n",
       "    </tr>\n",
       "    <tr>\n",
       "      <th>unique</th>\n",
       "      <td>1</td>\n",
       "      <td>1079</td>\n",
       "      <td>24</td>\n",
       "      <td>24</td>\n",
       "    </tr>\n",
       "    <tr>\n",
       "      <th>top</th>\n",
       "      <td>是</td>\n",
       "      <td>MX-2014-TG216405-41952</td>\n",
       "      <td>西欧</td>\n",
       "      <td>是,西欧</td>\n",
       "    </tr>\n",
       "    <tr>\n",
       "      <th>freq</th>\n",
       "      <td>1079</td>\n",
       "      <td>1</td>\n",
       "      <td>121</td>\n",
       "      <td>121</td>\n",
       "    </tr>\n",
       "  </tbody>\n",
       "</table>\n",
       "</div>"
      ],
      "text/plain": [
       "         已退回                      订单    地区   合并列\n",
       "count   1079                    1079  1079  1079\n",
       "unique     1                    1079    24    24\n",
       "top        是  MX-2014-TG216405-41952    西欧  是,西欧\n",
       "freq    1079                       1   121   121"
      ]
     },
     "execution_count": 43,
     "metadata": {},
     "output_type": "execute_result"
    }
   ],
   "source": [
    "orders.describe(include=['object'])#type=object"
   ]
  },
  {
   "cell_type": "code",
   "execution_count": 44,
   "metadata": {},
   "outputs": [
    {
     "data": {
      "text/plain": [
       "Index(['已退回', '订单', '地区', '合并列'], dtype='object')"
      ]
     },
     "execution_count": 44,
     "metadata": {},
     "output_type": "execute_result"
    }
   ],
   "source": [
    "orders.columns"
   ]
  },
  {
   "cell_type": "code",
   "execution_count": 45,
   "metadata": {
    "collapsed": true
   },
   "outputs": [],
   "source": [
    "orders.rename(columns={\"订单\":\"dingdan\"},inplace=True)"
   ]
  },
  {
   "cell_type": "code",
   "execution_count": 46,
   "metadata": {},
   "outputs": [
    {
     "data": {
      "text/plain": [
       "Index(['已退回', 'dingdan', '地区', '合并列'], dtype='object')"
      ]
     },
     "execution_count": 46,
     "metadata": {},
     "output_type": "execute_result"
    }
   ],
   "source": [
    "orders.columns#更改了行名字"
   ]
  },
  {
   "cell_type": "code",
   "execution_count": 47,
   "metadata": {
    "scrolled": true
   },
   "outputs": [
    {
     "data": {
      "text/html": [
       "<div>\n",
       "<style scoped>\n",
       "    .dataframe tbody tr th:only-of-type {\n",
       "        vertical-align: middle;\n",
       "    }\n",
       "\n",
       "    .dataframe tbody tr th {\n",
       "        vertical-align: top;\n",
       "    }\n",
       "\n",
       "    .dataframe thead th {\n",
       "        text-align: right;\n",
       "    }\n",
       "</style>\n",
       "<table border=\"1\" class=\"dataframe\">\n",
       "  <thead>\n",
       "    <tr style=\"text-align: right;\">\n",
       "      <th></th>\n",
       "      <th>是否退回</th>\n",
       "      <th>订单</th>\n",
       "      <th>地区</th>\n",
       "      <th>color reporter</th>\n",
       "    </tr>\n",
       "  </thead>\n",
       "  <tbody>\n",
       "    <tr>\n",
       "      <th>0</th>\n",
       "      <td>是</td>\n",
       "      <td>CA-2012-SA20830140-41210</td>\n",
       "      <td>美国中部</td>\n",
       "      <td>是,美国中部</td>\n",
       "    </tr>\n",
       "    <tr>\n",
       "      <th>1</th>\n",
       "      <td>是</td>\n",
       "      <td>IN-2012-PB19210127-41259</td>\n",
       "      <td>东亚</td>\n",
       "      <td>是,东亚</td>\n",
       "    </tr>\n",
       "    <tr>\n",
       "      <th>2</th>\n",
       "      <td>是</td>\n",
       "      <td>CA-2012-SC20095140-41174</td>\n",
       "      <td>美国中部</td>\n",
       "      <td>是,美国中部</td>\n",
       "    </tr>\n",
       "    <tr>\n",
       "      <th>3</th>\n",
       "      <td>是</td>\n",
       "      <td>IN-2015-JH158207-42140</td>\n",
       "      <td>大洋洲</td>\n",
       "      <td>是,大洋洲</td>\n",
       "    </tr>\n",
       "    <tr>\n",
       "      <th>4</th>\n",
       "      <td>是</td>\n",
       "      <td>IN-2014-LC168857-41747</td>\n",
       "      <td>大洋洲</td>\n",
       "      <td>是,大洋洲</td>\n",
       "    </tr>\n",
       "  </tbody>\n",
       "</table>\n",
       "</div>"
      ],
      "text/plain": [
       "  是否退回                        订单    地区 color reporter\n",
       "0    是  CA-2012-SA20830140-41210  美国中部         是,美国中部\n",
       "1    是  IN-2012-PB19210127-41259    东亚           是,东亚\n",
       "2    是  CA-2012-SC20095140-41174  美国中部         是,美国中部\n",
       "3    是    IN-2015-JH158207-42140   大洋洲          是,大洋洲\n",
       "4    是    IN-2014-LC168857-41747   大洋洲          是,大洋洲"
      ]
     },
     "execution_count": 47,
     "metadata": {},
     "output_type": "execute_result"
    }
   ],
   "source": [
    "column=[\"是否退回\",\"订单\",\"地区\",\"color reporter\"]\n",
    "orders.columns=column\n",
    "orders.head()"
   ]
  },
  {
   "cell_type": "code",
   "execution_count": 48,
   "metadata": {
    "collapsed": true
   },
   "outputs": [],
   "source": [
    "orders.columns=orders.columns.str.replace(\" \",'_')"
   ]
  },
  {
   "cell_type": "code",
   "execution_count": 49,
   "metadata": {},
   "outputs": [
    {
     "data": {
      "text/plain": [
       "Index(['是否退回', '订单', '地区', 'color_reporter'], dtype='object')"
      ]
     },
     "execution_count": 49,
     "metadata": {},
     "output_type": "execute_result"
    }
   ],
   "source": [
    "orders.columns"
   ]
  },
  {
   "cell_type": "code",
   "execution_count": 52,
   "metadata": {
    "collapsed": true
   },
   "outputs": [],
   "source": [
    "orders.drop(\"是否退回\",axis=1,inplace=True)"
   ]
  },
  {
   "cell_type": "code",
   "execution_count": 53,
   "metadata": {},
   "outputs": [
    {
     "data": {
      "text/html": [
       "<div>\n",
       "<style scoped>\n",
       "    .dataframe tbody tr th:only-of-type {\n",
       "        vertical-align: middle;\n",
       "    }\n",
       "\n",
       "    .dataframe tbody tr th {\n",
       "        vertical-align: top;\n",
       "    }\n",
       "\n",
       "    .dataframe thead th {\n",
       "        text-align: right;\n",
       "    }\n",
       "</style>\n",
       "<table border=\"1\" class=\"dataframe\">\n",
       "  <thead>\n",
       "    <tr style=\"text-align: right;\">\n",
       "      <th></th>\n",
       "      <th>订单</th>\n",
       "      <th>地区</th>\n",
       "      <th>color_reporter</th>\n",
       "    </tr>\n",
       "  </thead>\n",
       "  <tbody>\n",
       "    <tr>\n",
       "      <th>0</th>\n",
       "      <td>CA-2012-SA20830140-41210</td>\n",
       "      <td>美国中部</td>\n",
       "      <td>是,美国中部</td>\n",
       "    </tr>\n",
       "    <tr>\n",
       "      <th>1</th>\n",
       "      <td>IN-2012-PB19210127-41259</td>\n",
       "      <td>东亚</td>\n",
       "      <td>是,东亚</td>\n",
       "    </tr>\n",
       "    <tr>\n",
       "      <th>2</th>\n",
       "      <td>CA-2012-SC20095140-41174</td>\n",
       "      <td>美国中部</td>\n",
       "      <td>是,美国中部</td>\n",
       "    </tr>\n",
       "    <tr>\n",
       "      <th>3</th>\n",
       "      <td>IN-2015-JH158207-42140</td>\n",
       "      <td>大洋洲</td>\n",
       "      <td>是,大洋洲</td>\n",
       "    </tr>\n",
       "    <tr>\n",
       "      <th>4</th>\n",
       "      <td>IN-2014-LC168857-41747</td>\n",
       "      <td>大洋洲</td>\n",
       "      <td>是,大洋洲</td>\n",
       "    </tr>\n",
       "  </tbody>\n",
       "</table>\n",
       "</div>"
      ],
      "text/plain": [
       "                         订单    地区 color_reporter\n",
       "0  CA-2012-SA20830140-41210  美国中部         是,美国中部\n",
       "1  IN-2012-PB19210127-41259    东亚           是,东亚\n",
       "2  CA-2012-SC20095140-41174  美国中部         是,美国中部\n",
       "3    IN-2015-JH158207-42140   大洋洲          是,大洋洲\n",
       "4    IN-2014-LC168857-41747   大洋洲          是,大洋洲"
      ]
     },
     "execution_count": 53,
     "metadata": {},
     "output_type": "execute_result"
    }
   ],
   "source": [
    "orders.head()"
   ]
  },
  {
   "cell_type": "code",
   "execution_count": null,
   "metadata": {
    "collapsed": true
   },
   "outputs": [],
   "source": [
    "orders.drop([\"是否退回\",\"订单\"],axis=1.inplace=True)\n",
    "#建立一个元组，然后删除元组里面的额内容，axis=1是在行"
   ]
  },
  {
   "cell_type": "code",
   "execution_count": null,
   "metadata": {
    "collapsed": true
   },
   "outputs": [],
   "source": [
    "orders.drop([0,1],axis=0,inplace=True)\n",
    "#axis=0，在纵行，所以删除第一、二行"
   ]
  },
  {
   "cell_type": "code",
   "execution_count": 54,
   "metadata": {
    "collapsed": true
   },
   "outputs": [],
   "source": [
    "orders=pd.read_csv('data/Global Superstore Returns 2016_zh-CN.csv')"
   ]
  },
  {
   "cell_type": "code",
   "execution_count": 58,
   "metadata": {},
   "outputs": [
    {
     "data": {
      "text/html": [
       "<div>\n",
       "<style scoped>\n",
       "    .dataframe tbody tr th:only-of-type {\n",
       "        vertical-align: middle;\n",
       "    }\n",
       "\n",
       "    .dataframe tbody tr th {\n",
       "        vertical-align: top;\n",
       "    }\n",
       "\n",
       "    .dataframe thead th {\n",
       "        text-align: right;\n",
       "    }\n",
       "</style>\n",
       "<table border=\"1\" class=\"dataframe\">\n",
       "  <thead>\n",
       "    <tr style=\"text-align: right;\">\n",
       "      <th></th>\n",
       "      <th>已退回</th>\n",
       "      <th>订单 ID</th>\n",
       "      <th>地区</th>\n",
       "    </tr>\n",
       "  </thead>\n",
       "  <tbody>\n",
       "    <tr>\n",
       "      <th>0</th>\n",
       "      <td>是</td>\n",
       "      <td>CA-2012-SA20830140-41210</td>\n",
       "      <td>美国中部</td>\n",
       "    </tr>\n",
       "    <tr>\n",
       "      <th>1</th>\n",
       "      <td>是</td>\n",
       "      <td>IN-2012-PB19210127-41259</td>\n",
       "      <td>东亚</td>\n",
       "    </tr>\n",
       "    <tr>\n",
       "      <th>2</th>\n",
       "      <td>是</td>\n",
       "      <td>CA-2012-SC20095140-41174</td>\n",
       "      <td>美国中部</td>\n",
       "    </tr>\n",
       "    <tr>\n",
       "      <th>3</th>\n",
       "      <td>是</td>\n",
       "      <td>IN-2015-JH158207-42140</td>\n",
       "      <td>大洋洲</td>\n",
       "    </tr>\n",
       "    <tr>\n",
       "      <th>4</th>\n",
       "      <td>是</td>\n",
       "      <td>IN-2014-LC168857-41747</td>\n",
       "      <td>大洋洲</td>\n",
       "    </tr>\n",
       "  </tbody>\n",
       "</table>\n",
       "</div>"
      ],
      "text/plain": [
       "  已退回                     订单 ID    地区\n",
       "0   是  CA-2012-SA20830140-41210  美国中部\n",
       "1   是  IN-2012-PB19210127-41259    东亚\n",
       "2   是  CA-2012-SC20095140-41174  美国中部\n",
       "3   是    IN-2015-JH158207-42140   大洋洲\n",
       "4   是    IN-2014-LC168857-41747   大洋洲"
      ]
     },
     "execution_count": 58,
     "metadata": {},
     "output_type": "execute_result"
    }
   ],
   "source": [
    "orders.head()"
   ]
  },
  {
   "cell_type": "code",
   "execution_count": null,
   "metadata": {
    "collapsed": true
   },
   "outputs": [],
   "source": [
    "#如何拆分几列"
   ]
  },
  {
   "cell_type": "code",
   "execution_count": 94,
   "metadata": {},
   "outputs": [
    {
     "data": {
      "text/plain": [
       "614     西非\n",
       "706     西非\n",
       "1038    西非\n",
       "1034    西非\n",
       "1024    西非\n",
       "Name: 地区, dtype: object"
      ]
     },
     "execution_count": 94,
     "metadata": {},
     "output_type": "execute_result"
    }
   ],
   "source": [
    "orders[\"地区\"].sort_values(ascending=False).head()#排序,以降序排序"
   ]
  },
  {
   "cell_type": "code",
   "execution_count": 93,
   "metadata": {},
   "outputs": [
    {
     "data": {
      "text/html": [
       "<div>\n",
       "<style scoped>\n",
       "    .dataframe tbody tr th:only-of-type {\n",
       "        vertical-align: middle;\n",
       "    }\n",
       "\n",
       "    .dataframe tbody tr th {\n",
       "        vertical-align: top;\n",
       "    }\n",
       "\n",
       "    .dataframe thead th {\n",
       "        text-align: right;\n",
       "    }\n",
       "</style>\n",
       "<table border=\"1\" class=\"dataframe\">\n",
       "  <thead>\n",
       "    <tr style=\"text-align: right;\">\n",
       "      <th></th>\n",
       "      <th>已退回</th>\n",
       "      <th>订单 ID</th>\n",
       "      <th>地区</th>\n",
       "      <th>duration</th>\n",
       "    </tr>\n",
       "  </thead>\n",
       "  <tbody>\n",
       "    <tr>\n",
       "      <th>1</th>\n",
       "      <td>是</td>\n",
       "      <td>IN-2012-PB19210127-41259</td>\n",
       "      <td>东亚</td>\n",
       "      <td>1</td>\n",
       "    </tr>\n",
       "    <tr>\n",
       "      <th>5</th>\n",
       "      <td>是</td>\n",
       "      <td>ID-2013-AB1001527-41439</td>\n",
       "      <td>东亚</td>\n",
       "      <td>5</td>\n",
       "    </tr>\n",
       "    <tr>\n",
       "      <th>9</th>\n",
       "      <td>是</td>\n",
       "      <td>IN-2014-NM1844527-41800</td>\n",
       "      <td>东亚</td>\n",
       "      <td>9</td>\n",
       "    </tr>\n",
       "    <tr>\n",
       "      <th>16</th>\n",
       "      <td>是</td>\n",
       "      <td>IN-2014-EM1382566-41850</td>\n",
       "      <td>东亚</td>\n",
       "      <td>16</td>\n",
       "    </tr>\n",
       "    <tr>\n",
       "      <th>19</th>\n",
       "      <td>是</td>\n",
       "      <td>IN-2015-DB1306027-42353</td>\n",
       "      <td>东亚</td>\n",
       "      <td>19</td>\n",
       "    </tr>\n",
       "  </tbody>\n",
       "</table>\n",
       "</div>"
      ],
      "text/plain": [
       "   已退回                     订单 ID  地区  duration\n",
       "1    是  IN-2012-PB19210127-41259  东亚         1\n",
       "5    是   ID-2013-AB1001527-41439  东亚         5\n",
       "9    是   IN-2014-NM1844527-41800  东亚         9\n",
       "16   是   IN-2014-EM1382566-41850  东亚        16\n",
       "19   是   IN-2015-DB1306027-42353  东亚        19"
      ]
     },
     "execution_count": 93,
     "metadata": {},
     "output_type": "execute_result"
    }
   ],
   "source": [
    "orders.sort_values([\"地区\",\"已退回\"]).head()#排序，先地区，在已退回"
   ]
  },
  {
   "cell_type": "code",
   "execution_count": 65,
   "metadata": {
    "collapsed": true
   },
   "outputs": [],
   "source": [
    "import numpy as np"
   ]
  },
  {
   "cell_type": "code",
   "execution_count": 72,
   "metadata": {
    "collapsed": true
   },
   "outputs": [],
   "source": [
    "orders['duration']=np.arange(1079)"
   ]
  },
  {
   "cell_type": "code",
   "execution_count": 73,
   "metadata": {},
   "outputs": [
    {
     "data": {
      "text/html": [
       "<div>\n",
       "<style scoped>\n",
       "    .dataframe tbody tr th:only-of-type {\n",
       "        vertical-align: middle;\n",
       "    }\n",
       "\n",
       "    .dataframe tbody tr th {\n",
       "        vertical-align: top;\n",
       "    }\n",
       "\n",
       "    .dataframe thead th {\n",
       "        text-align: right;\n",
       "    }\n",
       "</style>\n",
       "<table border=\"1\" class=\"dataframe\">\n",
       "  <thead>\n",
       "    <tr style=\"text-align: right;\">\n",
       "      <th></th>\n",
       "      <th>已退回</th>\n",
       "      <th>订单 ID</th>\n",
       "      <th>地区</th>\n",
       "      <th>duration</th>\n",
       "    </tr>\n",
       "  </thead>\n",
       "  <tbody>\n",
       "    <tr>\n",
       "      <th>0</th>\n",
       "      <td>是</td>\n",
       "      <td>CA-2012-SA20830140-41210</td>\n",
       "      <td>美国中部</td>\n",
       "      <td>0</td>\n",
       "    </tr>\n",
       "    <tr>\n",
       "      <th>1</th>\n",
       "      <td>是</td>\n",
       "      <td>IN-2012-PB19210127-41259</td>\n",
       "      <td>东亚</td>\n",
       "      <td>1</td>\n",
       "    </tr>\n",
       "    <tr>\n",
       "      <th>2</th>\n",
       "      <td>是</td>\n",
       "      <td>CA-2012-SC20095140-41174</td>\n",
       "      <td>美国中部</td>\n",
       "      <td>2</td>\n",
       "    </tr>\n",
       "    <tr>\n",
       "      <th>3</th>\n",
       "      <td>是</td>\n",
       "      <td>IN-2015-JH158207-42140</td>\n",
       "      <td>大洋洲</td>\n",
       "      <td>3</td>\n",
       "    </tr>\n",
       "    <tr>\n",
       "      <th>4</th>\n",
       "      <td>是</td>\n",
       "      <td>IN-2014-LC168857-41747</td>\n",
       "      <td>大洋洲</td>\n",
       "      <td>4</td>\n",
       "    </tr>\n",
       "  </tbody>\n",
       "</table>\n",
       "</div>"
      ],
      "text/plain": [
       "  已退回                     订单 ID    地区  duration\n",
       "0   是  CA-2012-SA20830140-41210  美国中部         0\n",
       "1   是  IN-2012-PB19210127-41259    东亚         1\n",
       "2   是  CA-2012-SC20095140-41174  美国中部         2\n",
       "3   是    IN-2015-JH158207-42140   大洋洲         3\n",
       "4   是    IN-2014-LC168857-41747   大洋洲         4"
      ]
     },
     "execution_count": 73,
     "metadata": {},
     "output_type": "execute_result"
    }
   ],
   "source": [
    "orders.head()"
   ]
  },
  {
   "cell_type": "code",
   "execution_count": 76,
   "metadata": {
    "collapsed": true
   },
   "outputs": [],
   "source": [
    "booleans=[]\n",
    "for length in orders.duration:\n",
    "    if length>= 200:\n",
    "        booleans.append(True)\n",
    "    else:\n",
    "        booleans.append(False)"
   ]
  },
  {
   "cell_type": "code",
   "execution_count": 77,
   "metadata": {},
   "outputs": [
    {
     "data": {
      "text/plain": [
       "[False, False, False, False, False]"
      ]
     },
     "execution_count": 77,
     "metadata": {},
     "output_type": "execute_result"
    }
   ],
   "source": [
    "booleans[:5]"
   ]
  },
  {
   "cell_type": "code",
   "execution_count": 78,
   "metadata": {},
   "outputs": [
    {
     "data": {
      "text/plain": [
       "1079"
      ]
     },
     "execution_count": 78,
     "metadata": {},
     "output_type": "execute_result"
    }
   ],
   "source": [
    "len(booleans)"
   ]
  },
  {
   "cell_type": "code",
   "execution_count": 80,
   "metadata": {
    "collapsed": true
   },
   "outputs": [],
   "source": [
    "is_long=pd.Series(booleans)#把一行赋予给一个函数"
   ]
  },
  {
   "cell_type": "code",
   "execution_count": 81,
   "metadata": {},
   "outputs": [
    {
     "data": {
      "text/plain": [
       "0    False\n",
       "1    False\n",
       "2    False\n",
       "3    False\n",
       "4    False\n",
       "dtype: bool"
      ]
     },
     "execution_count": 81,
     "metadata": {},
     "output_type": "execute_result"
    }
   ],
   "source": [
    "is_long.head()"
   ]
  },
  {
   "cell_type": "code",
   "execution_count": 83,
   "metadata": {},
   "outputs": [
    {
     "data": {
      "text/html": [
       "<div>\n",
       "<style scoped>\n",
       "    .dataframe tbody tr th:only-of-type {\n",
       "        vertical-align: middle;\n",
       "    }\n",
       "\n",
       "    .dataframe tbody tr th {\n",
       "        vertical-align: top;\n",
       "    }\n",
       "\n",
       "    .dataframe thead th {\n",
       "        text-align: right;\n",
       "    }\n",
       "</style>\n",
       "<table border=\"1\" class=\"dataframe\">\n",
       "  <thead>\n",
       "    <tr style=\"text-align: right;\">\n",
       "      <th></th>\n",
       "      <th>已退回</th>\n",
       "      <th>订单 ID</th>\n",
       "      <th>地区</th>\n",
       "      <th>duration</th>\n",
       "    </tr>\n",
       "  </thead>\n",
       "  <tbody>\n",
       "    <tr>\n",
       "      <th>200</th>\n",
       "      <td>是</td>\n",
       "      <td>MX-2014-JR1570036-41775</td>\n",
       "      <td>加勒比海</td>\n",
       "      <td>200</td>\n",
       "    </tr>\n",
       "    <tr>\n",
       "      <th>201</th>\n",
       "      <td>是</td>\n",
       "      <td>CA-2013-VD21670140-41583</td>\n",
       "      <td>美国南部</td>\n",
       "      <td>201</td>\n",
       "    </tr>\n",
       "    <tr>\n",
       "      <th>202</th>\n",
       "      <td>是</td>\n",
       "      <td>CA-2014-BM11785140-41835</td>\n",
       "      <td>美国中部</td>\n",
       "      <td>202</td>\n",
       "    </tr>\n",
       "    <tr>\n",
       "      <th>203</th>\n",
       "      <td>是</td>\n",
       "      <td>ES-2014-JP16135139-41899</td>\n",
       "      <td>北欧</td>\n",
       "      <td>203</td>\n",
       "    </tr>\n",
       "    <tr>\n",
       "      <th>204</th>\n",
       "      <td>是</td>\n",
       "      <td>US-2012-KB1631598-41064</td>\n",
       "      <td>中美洲</td>\n",
       "      <td>204</td>\n",
       "    </tr>\n",
       "  </tbody>\n",
       "</table>\n",
       "</div>"
      ],
      "text/plain": [
       "    已退回                     订单 ID    地区  duration\n",
       "200   是   MX-2014-JR1570036-41775  加勒比海       200\n",
       "201   是  CA-2013-VD21670140-41583  美国南部       201\n",
       "202   是  CA-2014-BM11785140-41835  美国中部       202\n",
       "203   是  ES-2014-JP16135139-41899    北欧       203\n",
       "204   是   US-2012-KB1631598-41064   中美洲       204"
      ]
     },
     "execution_count": 83,
     "metadata": {},
     "output_type": "execute_result"
    }
   ],
   "source": [
    "orders[is_long].head()#只显示TRue部分"
   ]
  },
  {
   "cell_type": "code",
   "execution_count": 84,
   "metadata": {},
   "outputs": [
    {
     "data": {
      "text/plain": [
       "0    False\n",
       "1    False\n",
       "2    False\n",
       "3    False\n",
       "4    False\n",
       "Name: duration, dtype: bool"
      ]
     },
     "execution_count": 84,
     "metadata": {},
     "output_type": "execute_result"
    }
   ],
   "source": [
    "is_long=orders.duration>=200#先做>=200，判断是否正确\n",
    "is_long.head()"
   ]
  },
  {
   "cell_type": "code",
   "execution_count": 86,
   "metadata": {},
   "outputs": [
    {
     "data": {
      "text/html": [
       "<div>\n",
       "<style scoped>\n",
       "    .dataframe tbody tr th:only-of-type {\n",
       "        vertical-align: middle;\n",
       "    }\n",
       "\n",
       "    .dataframe tbody tr th {\n",
       "        vertical-align: top;\n",
       "    }\n",
       "\n",
       "    .dataframe thead th {\n",
       "        text-align: right;\n",
       "    }\n",
       "</style>\n",
       "<table border=\"1\" class=\"dataframe\">\n",
       "  <thead>\n",
       "    <tr style=\"text-align: right;\">\n",
       "      <th></th>\n",
       "      <th>已退回</th>\n",
       "      <th>订单 ID</th>\n",
       "      <th>地区</th>\n",
       "      <th>duration</th>\n",
       "    </tr>\n",
       "  </thead>\n",
       "  <tbody>\n",
       "    <tr>\n",
       "      <th>200</th>\n",
       "      <td>是</td>\n",
       "      <td>MX-2014-JR1570036-41775</td>\n",
       "      <td>加勒比海</td>\n",
       "      <td>200</td>\n",
       "    </tr>\n",
       "    <tr>\n",
       "      <th>201</th>\n",
       "      <td>是</td>\n",
       "      <td>CA-2013-VD21670140-41583</td>\n",
       "      <td>美国南部</td>\n",
       "      <td>201</td>\n",
       "    </tr>\n",
       "    <tr>\n",
       "      <th>202</th>\n",
       "      <td>是</td>\n",
       "      <td>CA-2014-BM11785140-41835</td>\n",
       "      <td>美国中部</td>\n",
       "      <td>202</td>\n",
       "    </tr>\n",
       "    <tr>\n",
       "      <th>203</th>\n",
       "      <td>是</td>\n",
       "      <td>ES-2014-JP16135139-41899</td>\n",
       "      <td>北欧</td>\n",
       "      <td>203</td>\n",
       "    </tr>\n",
       "    <tr>\n",
       "      <th>204</th>\n",
       "      <td>是</td>\n",
       "      <td>US-2012-KB1631598-41064</td>\n",
       "      <td>中美洲</td>\n",
       "      <td>204</td>\n",
       "    </tr>\n",
       "  </tbody>\n",
       "</table>\n",
       "</div>"
      ],
      "text/plain": [
       "    已退回                     订单 ID    地区  duration\n",
       "200   是   MX-2014-JR1570036-41775  加勒比海       200\n",
       "201   是  CA-2013-VD21670140-41583  美国南部       201\n",
       "202   是  CA-2014-BM11785140-41835  美国中部       202\n",
       "203   是  ES-2014-JP16135139-41899    北欧       203\n",
       "204   是   US-2012-KB1631598-41064   中美洲       204"
      ]
     },
     "execution_count": 86,
     "metadata": {},
     "output_type": "execute_result"
    }
   ],
   "source": [
    "orders[orders.duration>=200].head()"
   ]
  },
  {
   "cell_type": "code",
   "execution_count": 91,
   "metadata": {},
   "outputs": [
    {
     "data": {
      "text/plain": [
       "200    加勒比海\n",
       "201    美国南部\n",
       "202    美国中部\n",
       "203      北欧\n",
       "204     中美洲\n",
       "Name: 地区, dtype: object"
      ]
     },
     "execution_count": 91,
     "metadata": {},
     "output_type": "execute_result"
    }
   ],
   "source": [
    "orders.loc[orders.duration>=200,\"地区\"].head()"
   ]
  },
  {
   "cell_type": "code",
   "execution_count": 92,
   "metadata": {},
   "outputs": [
    {
     "data": {
      "text/html": [
       "<div>\n",
       "<style scoped>\n",
       "    .dataframe tbody tr th:only-of-type {\n",
       "        vertical-align: middle;\n",
       "    }\n",
       "\n",
       "    .dataframe tbody tr th {\n",
       "        vertical-align: top;\n",
       "    }\n",
       "\n",
       "    .dataframe thead th {\n",
       "        text-align: right;\n",
       "    }\n",
       "</style>\n",
       "<table border=\"1\" class=\"dataframe\">\n",
       "  <thead>\n",
       "    <tr style=\"text-align: right;\">\n",
       "      <th></th>\n",
       "      <th>已退回</th>\n",
       "      <th>订单 ID</th>\n",
       "      <th>地区</th>\n",
       "      <th>duration</th>\n",
       "    </tr>\n",
       "  </thead>\n",
       "  <tbody>\n",
       "    <tr>\n",
       "      <th>0</th>\n",
       "      <td>是</td>\n",
       "      <td>CA-2012-SA20830140-41210</td>\n",
       "      <td>美国中部</td>\n",
       "      <td>0</td>\n",
       "    </tr>\n",
       "    <tr>\n",
       "      <th>1</th>\n",
       "      <td>是</td>\n",
       "      <td>IN-2012-PB19210127-41259</td>\n",
       "      <td>东亚</td>\n",
       "      <td>1</td>\n",
       "    </tr>\n",
       "    <tr>\n",
       "      <th>2</th>\n",
       "      <td>是</td>\n",
       "      <td>CA-2012-SC20095140-41174</td>\n",
       "      <td>美国中部</td>\n",
       "      <td>2</td>\n",
       "    </tr>\n",
       "    <tr>\n",
       "      <th>3</th>\n",
       "      <td>是</td>\n",
       "      <td>IN-2015-JH158207-42140</td>\n",
       "      <td>大洋洲</td>\n",
       "      <td>3</td>\n",
       "    </tr>\n",
       "    <tr>\n",
       "      <th>4</th>\n",
       "      <td>是</td>\n",
       "      <td>IN-2014-LC168857-41747</td>\n",
       "      <td>大洋洲</td>\n",
       "      <td>4</td>\n",
       "    </tr>\n",
       "  </tbody>\n",
       "</table>\n",
       "</div>"
      ],
      "text/plain": [
       "  已退回                     订单 ID    地区  duration\n",
       "0   是  CA-2012-SA20830140-41210  美国中部         0\n",
       "1   是  IN-2012-PB19210127-41259    东亚         1\n",
       "2   是  CA-2012-SC20095140-41174  美国中部         2\n",
       "3   是    IN-2015-JH158207-42140   大洋洲         3\n",
       "4   是    IN-2014-LC168857-41747   大洋洲         4"
      ]
     },
     "execution_count": 92,
     "metadata": {},
     "output_type": "execute_result"
    }
   ],
   "source": [
    "orders.head()"
   ]
  },
  {
   "cell_type": "code",
   "execution_count": 101,
   "metadata": {
    "collapsed": true
   },
   "outputs": [],
   "source": [
    "orders=pd.read_csv('data/Global Superstore Returns 2016_zh-CN.csv',usecols=[0,2],nrows=10)"
   ]
  },
  {
   "cell_type": "code",
   "execution_count": null,
   "metadata": {
    "collapsed": true
   },
   "outputs": [],
   "source": [
    "#挑选前两列，前10行的数据"
   ]
  },
  {
   "cell_type": "code",
   "execution_count": 103,
   "metadata": {},
   "outputs": [
    {
     "data": {
      "text/html": [
       "<div>\n",
       "<style scoped>\n",
       "    .dataframe tbody tr th:only-of-type {\n",
       "        vertical-align: middle;\n",
       "    }\n",
       "\n",
       "    .dataframe tbody tr th {\n",
       "        vertical-align: top;\n",
       "    }\n",
       "\n",
       "    .dataframe thead th {\n",
       "        text-align: right;\n",
       "    }\n",
       "</style>\n",
       "<table border=\"1\" class=\"dataframe\">\n",
       "  <thead>\n",
       "    <tr style=\"text-align: right;\">\n",
       "      <th></th>\n",
       "      <th>已退回</th>\n",
       "      <th>地区</th>\n",
       "    </tr>\n",
       "  </thead>\n",
       "  <tbody>\n",
       "    <tr>\n",
       "      <th>0</th>\n",
       "      <td>是</td>\n",
       "      <td>美国中部</td>\n",
       "    </tr>\n",
       "    <tr>\n",
       "      <th>1</th>\n",
       "      <td>是</td>\n",
       "      <td>东亚</td>\n",
       "    </tr>\n",
       "    <tr>\n",
       "      <th>2</th>\n",
       "      <td>是</td>\n",
       "      <td>美国中部</td>\n",
       "    </tr>\n",
       "    <tr>\n",
       "      <th>3</th>\n",
       "      <td>是</td>\n",
       "      <td>大洋洲</td>\n",
       "    </tr>\n",
       "    <tr>\n",
       "      <th>4</th>\n",
       "      <td>是</td>\n",
       "      <td>大洋洲</td>\n",
       "    </tr>\n",
       "    <tr>\n",
       "      <th>5</th>\n",
       "      <td>是</td>\n",
       "      <td>东亚</td>\n",
       "    </tr>\n",
       "    <tr>\n",
       "      <th>6</th>\n",
       "      <td>是</td>\n",
       "      <td>西欧</td>\n",
       "    </tr>\n",
       "    <tr>\n",
       "      <th>7</th>\n",
       "      <td>是</td>\n",
       "      <td>美国中部</td>\n",
       "    </tr>\n",
       "    <tr>\n",
       "      <th>8</th>\n",
       "      <td>是</td>\n",
       "      <td>南欧</td>\n",
       "    </tr>\n",
       "    <tr>\n",
       "      <th>9</th>\n",
       "      <td>是</td>\n",
       "      <td>东亚</td>\n",
       "    </tr>\n",
       "  </tbody>\n",
       "</table>\n",
       "</div>"
      ],
      "text/plain": [
       "  已退回    地区\n",
       "0   是  美国中部\n",
       "1   是    东亚\n",
       "2   是  美国中部\n",
       "3   是   大洋洲\n",
       "4   是   大洋洲\n",
       "5   是    东亚\n",
       "6   是    西欧\n",
       "7   是  美国中部\n",
       "8   是    南欧\n",
       "9   是    东亚"
      ]
     },
     "execution_count": 103,
     "metadata": {},
     "output_type": "execute_result"
    }
   ],
   "source": [
    "orders"
   ]
  },
  {
   "cell_type": "code",
   "execution_count": 105,
   "metadata": {},
   "outputs": [
    {
     "name": "stdout",
     "output_type": "stream",
     "text": [
      "美国中部\n",
      "东亚\n",
      "美国中部\n",
      "大洋洲\n",
      "大洋洲\n",
      "东亚\n",
      "西欧\n",
      "美国中部\n",
      "南欧\n",
      "东亚\n"
     ]
    }
   ],
   "source": [
    "for c in orders[\"地区\"]:\n",
    "    print (c)"
   ]
  },
  {
   "cell_type": "code",
   "execution_count": 112,
   "metadata": {
    "collapsed": true
   },
   "outputs": [],
   "source": [
    "orders['time']=np.arange(10)"
   ]
  },
  {
   "cell_type": "code",
   "execution_count": 118,
   "metadata": {},
   "outputs": [
    {
     "data": {
      "text/plain": [
       "已退回     object\n",
       "地区      object\n",
       "time     int32\n",
       "dtype: object"
      ]
     },
     "execution_count": 118,
     "metadata": {},
     "output_type": "execute_result"
    }
   ],
   "source": [
    "#选择数据类型,include后面跟着的include= np.number，\n",
    "orders.select_dtypes(include=[np.number,object]).dtypes"
   ]
  },
  {
   "cell_type": "code",
   "execution_count": 120,
   "metadata": {},
   "outputs": [
    {
     "data": {
      "text/html": [
       "<div>\n",
       "<style scoped>\n",
       "    .dataframe tbody tr th:only-of-type {\n",
       "        vertical-align: middle;\n",
       "    }\n",
       "\n",
       "    .dataframe tbody tr th {\n",
       "        vertical-align: top;\n",
       "    }\n",
       "\n",
       "    .dataframe thead th {\n",
       "        text-align: right;\n",
       "    }\n",
       "</style>\n",
       "<table border=\"1\" class=\"dataframe\">\n",
       "  <thead>\n",
       "    <tr style=\"text-align: right;\">\n",
       "      <th></th>\n",
       "      <th>地区</th>\n",
       "      <th>time</th>\n",
       "    </tr>\n",
       "  </thead>\n",
       "  <tbody>\n",
       "    <tr>\n",
       "      <th>0</th>\n",
       "      <td>美国中部</td>\n",
       "      <td>0</td>\n",
       "    </tr>\n",
       "    <tr>\n",
       "      <th>1</th>\n",
       "      <td>东亚</td>\n",
       "      <td>1</td>\n",
       "    </tr>\n",
       "    <tr>\n",
       "      <th>2</th>\n",
       "      <td>美国中部</td>\n",
       "      <td>2</td>\n",
       "    </tr>\n",
       "    <tr>\n",
       "      <th>3</th>\n",
       "      <td>大洋洲</td>\n",
       "      <td>3</td>\n",
       "    </tr>\n",
       "    <tr>\n",
       "      <th>4</th>\n",
       "      <td>大洋洲</td>\n",
       "      <td>4</td>\n",
       "    </tr>\n",
       "  </tbody>\n",
       "</table>\n",
       "</div>"
      ],
      "text/plain": [
       "     地区  time\n",
       "0  美国中部     0\n",
       "1    东亚     1\n",
       "2  美国中部     2\n",
       "3   大洋洲     3\n",
       "4   大洋洲     4"
      ]
     },
     "execution_count": 120,
     "metadata": {},
     "output_type": "execute_result"
    }
   ],
   "source": [
    "orders.drop(\"已退回\",axis=1).head()"
   ]
  },
  {
   "cell_type": "code",
   "execution_count": 124,
   "metadata": {},
   "outputs": [
    {
     "data": {
      "text/html": [
       "<div>\n",
       "<style scoped>\n",
       "    .dataframe tbody tr th:only-of-type {\n",
       "        vertical-align: middle;\n",
       "    }\n",
       "\n",
       "    .dataframe tbody tr th {\n",
       "        vertical-align: top;\n",
       "    }\n",
       "\n",
       "    .dataframe thead th {\n",
       "        text-align: right;\n",
       "    }\n",
       "</style>\n",
       "<table border=\"1\" class=\"dataframe\">\n",
       "  <thead>\n",
       "    <tr style=\"text-align: right;\">\n",
       "      <th></th>\n",
       "      <th>已退回</th>\n",
       "      <th>地区</th>\n",
       "      <th>time</th>\n",
       "    </tr>\n",
       "  </thead>\n",
       "  <tbody>\n",
       "    <tr>\n",
       "      <th>0</th>\n",
       "      <td>是</td>\n",
       "      <td>美国中部</td>\n",
       "      <td>0</td>\n",
       "    </tr>\n",
       "    <tr>\n",
       "      <th>1</th>\n",
       "      <td>是</td>\n",
       "      <td>东亚</td>\n",
       "      <td>1</td>\n",
       "    </tr>\n",
       "    <tr>\n",
       "      <th>3</th>\n",
       "      <td>是</td>\n",
       "      <td>大洋洲</td>\n",
       "      <td>3</td>\n",
       "    </tr>\n",
       "    <tr>\n",
       "      <th>4</th>\n",
       "      <td>是</td>\n",
       "      <td>大洋洲</td>\n",
       "      <td>4</td>\n",
       "    </tr>\n",
       "    <tr>\n",
       "      <th>5</th>\n",
       "      <td>是</td>\n",
       "      <td>东亚</td>\n",
       "      <td>5</td>\n",
       "    </tr>\n",
       "  </tbody>\n",
       "</table>\n",
       "</div>"
      ],
      "text/plain": [
       "  已退回    地区  time\n",
       "0   是  美国中部     0\n",
       "1   是    东亚     1\n",
       "3   是   大洋洲     3\n",
       "4   是   大洋洲     4\n",
       "5   是    东亚     5"
      ]
     },
     "execution_count": 124,
     "metadata": {},
     "output_type": "execute_result"
    }
   ],
   "source": [
    "orders.drop(2,axis=0).head()"
   ]
  },
  {
   "cell_type": "code",
   "execution_count": 127,
   "metadata": {},
   "outputs": [
    {
     "data": {
      "text/plain": [
       "time    4.5\n",
       "dtype: float64"
      ]
     },
     "execution_count": 127,
     "metadata": {},
     "output_type": "execute_result"
    }
   ],
   "source": [
    "orders.mean(axis=0)"
   ]
  },
  {
   "cell_type": "code",
   "execution_count": 129,
   "metadata": {},
   "outputs": [
    {
     "data": {
      "text/plain": [
       "'HELLO'"
      ]
     },
     "execution_count": 129,
     "metadata": {},
     "output_type": "execute_result"
    }
   ],
   "source": [
    "'hello'.upper()"
   ]
  },
  {
   "cell_type": "code",
   "execution_count": 130,
   "metadata": {
    "collapsed": true
   },
   "outputs": [],
   "source": [
    "orders=pd.read_csv('data/Global Superstore Returns 2016_zh-CN.csv')"
   ]
  },
  {
   "cell_type": "code",
   "execution_count": 131,
   "metadata": {},
   "outputs": [
    {
     "data": {
      "text/html": [
       "<div>\n",
       "<style scoped>\n",
       "    .dataframe tbody tr th:only-of-type {\n",
       "        vertical-align: middle;\n",
       "    }\n",
       "\n",
       "    .dataframe tbody tr th {\n",
       "        vertical-align: top;\n",
       "    }\n",
       "\n",
       "    .dataframe thead th {\n",
       "        text-align: right;\n",
       "    }\n",
       "</style>\n",
       "<table border=\"1\" class=\"dataframe\">\n",
       "  <thead>\n",
       "    <tr style=\"text-align: right;\">\n",
       "      <th></th>\n",
       "      <th>已退回</th>\n",
       "      <th>订单 ID</th>\n",
       "      <th>地区</th>\n",
       "    </tr>\n",
       "  </thead>\n",
       "  <tbody>\n",
       "    <tr>\n",
       "      <th>0</th>\n",
       "      <td>是</td>\n",
       "      <td>CA-2012-SA20830140-41210</td>\n",
       "      <td>美国中部</td>\n",
       "    </tr>\n",
       "    <tr>\n",
       "      <th>1</th>\n",
       "      <td>是</td>\n",
       "      <td>IN-2012-PB19210127-41259</td>\n",
       "      <td>东亚</td>\n",
       "    </tr>\n",
       "    <tr>\n",
       "      <th>2</th>\n",
       "      <td>是</td>\n",
       "      <td>CA-2012-SC20095140-41174</td>\n",
       "      <td>美国中部</td>\n",
       "    </tr>\n",
       "    <tr>\n",
       "      <th>3</th>\n",
       "      <td>是</td>\n",
       "      <td>IN-2015-JH158207-42140</td>\n",
       "      <td>大洋洲</td>\n",
       "    </tr>\n",
       "    <tr>\n",
       "      <th>4</th>\n",
       "      <td>是</td>\n",
       "      <td>IN-2014-LC168857-41747</td>\n",
       "      <td>大洋洲</td>\n",
       "    </tr>\n",
       "  </tbody>\n",
       "</table>\n",
       "</div>"
      ],
      "text/plain": [
       "  已退回                     订单 ID    地区\n",
       "0   是  CA-2012-SA20830140-41210  美国中部\n",
       "1   是  IN-2012-PB19210127-41259    东亚\n",
       "2   是  CA-2012-SC20095140-41174  美国中部\n",
       "3   是    IN-2015-JH158207-42140   大洋洲\n",
       "4   是    IN-2014-LC168857-41747   大洋洲"
      ]
     },
     "execution_count": 131,
     "metadata": {},
     "output_type": "execute_result"
    }
   ],
   "source": [
    "orders.head()"
   ]
  },
  {
   "cell_type": "code",
   "execution_count": 134,
   "metadata": {},
   "outputs": [
    {
     "data": {
      "text/html": [
       "<div>\n",
       "<style scoped>\n",
       "    .dataframe tbody tr th:only-of-type {\n",
       "        vertical-align: middle;\n",
       "    }\n",
       "\n",
       "    .dataframe tbody tr th {\n",
       "        vertical-align: top;\n",
       "    }\n",
       "\n",
       "    .dataframe thead th {\n",
       "        text-align: right;\n",
       "    }\n",
       "</style>\n",
       "<table border=\"1\" class=\"dataframe\">\n",
       "  <thead>\n",
       "    <tr style=\"text-align: right;\">\n",
       "      <th></th>\n",
       "      <th>back</th>\n",
       "      <th>dingdan</th>\n",
       "      <th>areas</th>\n",
       "    </tr>\n",
       "  </thead>\n",
       "  <tbody>\n",
       "    <tr>\n",
       "      <th>0</th>\n",
       "      <td>是</td>\n",
       "      <td>CA-2012-SA20830140-41210</td>\n",
       "      <td>美国中部</td>\n",
       "    </tr>\n",
       "    <tr>\n",
       "      <th>1</th>\n",
       "      <td>是</td>\n",
       "      <td>IN-2012-PB19210127-41259</td>\n",
       "      <td>东亚</td>\n",
       "    </tr>\n",
       "    <tr>\n",
       "      <th>2</th>\n",
       "      <td>是</td>\n",
       "      <td>CA-2012-SC20095140-41174</td>\n",
       "      <td>美国中部</td>\n",
       "    </tr>\n",
       "    <tr>\n",
       "      <th>3</th>\n",
       "      <td>是</td>\n",
       "      <td>IN-2015-JH158207-42140</td>\n",
       "      <td>大洋洲</td>\n",
       "    </tr>\n",
       "    <tr>\n",
       "      <th>4</th>\n",
       "      <td>是</td>\n",
       "      <td>IN-2014-LC168857-41747</td>\n",
       "      <td>大洋洲</td>\n",
       "    </tr>\n",
       "  </tbody>\n",
       "</table>\n",
       "</div>"
      ],
      "text/plain": [
       "  back                   dingdan areas\n",
       "0    是  CA-2012-SA20830140-41210  美国中部\n",
       "1    是  IN-2012-PB19210127-41259    东亚\n",
       "2    是  CA-2012-SC20095140-41174  美国中部\n",
       "3    是    IN-2015-JH158207-42140   大洋洲\n",
       "4    是    IN-2014-LC168857-41747   大洋洲"
      ]
     },
     "execution_count": 134,
     "metadata": {},
     "output_type": "execute_result"
    }
   ],
   "source": [
    "column=[\"back\",\"dingdan\",\"areas\"]\n",
    "orders.columns=column\n",
    "orders.head()"
   ]
  },
  {
   "cell_type": "code",
   "execution_count": 136,
   "metadata": {},
   "outputs": [
    {
     "data": {
      "text/plain": [
       "0    ca-2012-sa20830140-41210\n",
       "1    in-2012-pb19210127-41259\n",
       "2    ca-2012-sc20095140-41174\n",
       "3      in-2015-jh158207-42140\n",
       "4      in-2014-lc168857-41747\n",
       "Name: dingdan, dtype: object"
      ]
     },
     "execution_count": 136,
     "metadata": {},
     "output_type": "execute_result"
    }
   ],
   "source": [
    "orders.dingdan.str.lower().head()"
   ]
  },
  {
   "cell_type": "code",
   "execution_count": 138,
   "metadata": {},
   "outputs": [
    {
     "data": {
      "text/plain": [
       "0    False\n",
       "1    False\n",
       "2    False\n",
       "3    False\n",
       "4    False\n",
       "Name: dingdan, dtype: bool"
      ]
     },
     "execution_count": 138,
     "metadata": {},
     "output_type": "execute_result"
    }
   ],
   "source": [
    "orders.dingdan.str.contains(\"in\").head()"
   ]
  },
  {
   "cell_type": "code",
   "execution_count": 140,
   "metadata": {},
   "outputs": [
    {
     "data": {
      "text/plain": [
       "0    CA 2012 SA20830140 41210\n",
       "1    IN 2012 PB19210127 41259\n",
       "2    CA 2012 SC20095140 41174\n",
       "3      IN 2015 JH158207 42140\n",
       "4      IN 2014 LC168857 41747\n",
       "Name: dingdan, dtype: object"
      ]
     },
     "execution_count": 140,
     "metadata": {},
     "output_type": "execute_result"
    }
   ],
   "source": [
    "orders.dingdan.str.replace(\"-\",\" \").head()"
   ]
  },
  {
   "cell_type": "code",
   "execution_count": 141,
   "metadata": {},
   "outputs": [
    {
     "data": {
      "text/plain": [
       "0    False\n",
       "1     True\n",
       "2    False\n",
       "3     True\n",
       "4     True\n",
       "Name: dingdan, dtype: bool"
      ]
     },
     "execution_count": 141,
     "metadata": {},
     "output_type": "execute_result"
    }
   ],
   "source": [
    "orders.dingdan.str.contains(\"IN\").head()"
   ]
  },
  {
   "cell_type": "code",
   "execution_count": null,
   "metadata": {
    "collapsed": true
   },
   "outputs": [],
   "source": [
    "orders.dingdan.str.replace('', ''),str.replace('','')#两次更改\n",
    "orders.dingdan.str.replace('[\\[\\]]', '')#把【】转换为空格"
   ]
  },
  {
   "cell_type": "code",
   "execution_count": 143,
   "metadata": {},
   "outputs": [
    {
     "data": {
      "text/plain": [
       "(1079, 3)"
      ]
     },
     "execution_count": 143,
     "metadata": {},
     "output_type": "execute_result"
    }
   ],
   "source": [
    "orders.shape"
   ]
  },
  {
   "cell_type": "code",
   "execution_count": 145,
   "metadata": {
    "collapsed": true
   },
   "outputs": [],
   "source": [
    "orders['numbers']=np.arange(1079)"
   ]
  },
  {
   "cell_type": "code",
   "execution_count": 146,
   "metadata": {
    "collapsed": true
   },
   "outputs": [],
   "source": [
    "orders['numbers']=orders.numbers.astype(float)"
   ]
  },
  {
   "cell_type": "code",
   "execution_count": 148,
   "metadata": {},
   "outputs": [
    {
     "data": {
      "text/plain": [
       "back        object\n",
       "dingdan     object\n",
       "areas       object\n",
       "numbers    float64\n",
       "dtype: object"
      ]
     },
     "execution_count": 148,
     "metadata": {},
     "output_type": "execute_result"
    }
   ],
   "source": [
    "orders.dtypes"
   ]
  },
  {
   "cell_type": "code",
   "execution_count": null,
   "metadata": {
    "collapsed": true
   },
   "outputs": [],
   "source": [
    "orders(pd.read_csv('……'.dtype={'numbers':float})#改数据类型"
   ]
  },
  {
   "cell_type": "code",
   "execution_count": null,
   "metadata": {
    "collapsed": true
   },
   "outputs": [],
   "source": [
    "orders.item_price.str.replace('$','').astype(float).mean()\n",
    "orders.item_name.str.contains('chicken').stype(int).head()\n",
    "#把有chicken的ture转换为1，false转换为0"
   ]
  },
  {
   "cell_type": "code",
   "execution_count": 149,
   "metadata": {},
   "outputs": [
    {
     "data": {
      "text/html": [
       "<div>\n",
       "<style scoped>\n",
       "    .dataframe tbody tr th:only-of-type {\n",
       "        vertical-align: middle;\n",
       "    }\n",
       "\n",
       "    .dataframe tbody tr th {\n",
       "        vertical-align: top;\n",
       "    }\n",
       "\n",
       "    .dataframe thead th {\n",
       "        text-align: right;\n",
       "    }\n",
       "</style>\n",
       "<table border=\"1\" class=\"dataframe\">\n",
       "  <thead>\n",
       "    <tr style=\"text-align: right;\">\n",
       "      <th></th>\n",
       "      <th>back</th>\n",
       "      <th>dingdan</th>\n",
       "      <th>areas</th>\n",
       "      <th>numbers</th>\n",
       "    </tr>\n",
       "  </thead>\n",
       "  <tbody>\n",
       "    <tr>\n",
       "      <th>0</th>\n",
       "      <td>是</td>\n",
       "      <td>CA-2012-SA20830140-41210</td>\n",
       "      <td>美国中部</td>\n",
       "      <td>0.0</td>\n",
       "    </tr>\n",
       "    <tr>\n",
       "      <th>1</th>\n",
       "      <td>是</td>\n",
       "      <td>IN-2012-PB19210127-41259</td>\n",
       "      <td>东亚</td>\n",
       "      <td>1.0</td>\n",
       "    </tr>\n",
       "    <tr>\n",
       "      <th>2</th>\n",
       "      <td>是</td>\n",
       "      <td>CA-2012-SC20095140-41174</td>\n",
       "      <td>美国中部</td>\n",
       "      <td>2.0</td>\n",
       "    </tr>\n",
       "    <tr>\n",
       "      <th>3</th>\n",
       "      <td>是</td>\n",
       "      <td>IN-2015-JH158207-42140</td>\n",
       "      <td>大洋洲</td>\n",
       "      <td>3.0</td>\n",
       "    </tr>\n",
       "    <tr>\n",
       "      <th>4</th>\n",
       "      <td>是</td>\n",
       "      <td>IN-2014-LC168857-41747</td>\n",
       "      <td>大洋洲</td>\n",
       "      <td>4.0</td>\n",
       "    </tr>\n",
       "  </tbody>\n",
       "</table>\n",
       "</div>"
      ],
      "text/plain": [
       "  back                   dingdan areas  numbers\n",
       "0    是  CA-2012-SA20830140-41210  美国中部      0.0\n",
       "1    是  IN-2012-PB19210127-41259    东亚      1.0\n",
       "2    是  CA-2012-SC20095140-41174  美国中部      2.0\n",
       "3    是    IN-2015-JH158207-42140   大洋洲      3.0\n",
       "4    是    IN-2014-LC168857-41747   大洋洲      4.0"
      ]
     },
     "execution_count": 149,
     "metadata": {},
     "output_type": "execute_result"
    }
   ],
   "source": [
    "orders.head()"
   ]
  },
  {
   "cell_type": "code",
   "execution_count": 151,
   "metadata": {},
   "outputs": [
    {
     "data": {
      "text/plain": [
       "539.0"
      ]
     },
     "execution_count": 151,
     "metadata": {},
     "output_type": "execute_result"
    }
   ],
   "source": [
    "orders.numbers.mean()"
   ]
  },
  {
   "cell_type": "code",
   "execution_count": 153,
   "metadata": {},
   "outputs": [
    {
     "data": {
      "text/plain": [
       "areas\n",
       "东亚       415.943396\n",
       "东南亚      515.203125\n",
       "东欧       521.541667\n",
       "东非       687.909091\n",
       "中亚       770.500000\n",
       "中美洲      574.162393\n",
       "中非       512.800000\n",
       "加勒比海     567.129032\n",
       "加拿大东部    562.600000\n",
       "北欧       558.860465\n",
       "北非       581.000000\n",
       "南亚       515.103448\n",
       "南欧       523.290909\n",
       "南美       526.557377\n",
       "南部非洲     476.727273\n",
       "大洋洲      470.833333\n",
       "美国东部     607.739130\n",
       "美国中部     614.809524\n",
       "美国南部     529.977273\n",
       "美国西部     545.819444\n",
       "西亚       658.900000\n",
       "西加拿大     572.000000\n",
       "西欧       439.438017\n",
       "西非       750.068966\n",
       "Name: numbers, dtype: float64"
      ]
     },
     "execution_count": 153,
     "metadata": {},
     "output_type": "execute_result"
    }
   ],
   "source": [
    "orders.groupby('areas').numbers.mean()\n",
    "#以订单排序，然后统计numbers的mean"
   ]
  },
  {
   "cell_type": "code",
   "execution_count": 155,
   "metadata": {},
   "outputs": [
    {
     "data": {
      "text/plain": [
       "1072.0"
      ]
     },
     "execution_count": 155,
     "metadata": {},
     "output_type": "execute_result"
    }
   ],
   "source": [
    "orders[orders.areas==\"西亚\"].numbers.max()"
   ]
  },
  {
   "cell_type": "code",
   "execution_count": 158,
   "metadata": {},
   "outputs": [
    {
     "data": {
      "text/html": [
       "<div>\n",
       "<style scoped>\n",
       "    .dataframe tbody tr th:only-of-type {\n",
       "        vertical-align: middle;\n",
       "    }\n",
       "\n",
       "    .dataframe tbody tr th {\n",
       "        vertical-align: top;\n",
       "    }\n",
       "\n",
       "    .dataframe thead th {\n",
       "        text-align: right;\n",
       "    }\n",
       "</style>\n",
       "<table border=\"1\" class=\"dataframe\">\n",
       "  <thead>\n",
       "    <tr style=\"text-align: right;\">\n",
       "      <th></th>\n",
       "      <th>count</th>\n",
       "      <th>min</th>\n",
       "      <th>max</th>\n",
       "      <th>mean</th>\n",
       "    </tr>\n",
       "    <tr>\n",
       "      <th>areas</th>\n",
       "      <th></th>\n",
       "      <th></th>\n",
       "      <th></th>\n",
       "      <th></th>\n",
       "    </tr>\n",
       "  </thead>\n",
       "  <tbody>\n",
       "    <tr>\n",
       "      <th>东亚</th>\n",
       "      <td>53</td>\n",
       "      <td>1.0</td>\n",
       "      <td>1069.0</td>\n",
       "      <td>415.943396</td>\n",
       "    </tr>\n",
       "    <tr>\n",
       "      <th>东南亚</th>\n",
       "      <td>64</td>\n",
       "      <td>25.0</td>\n",
       "      <td>1068.0</td>\n",
       "      <td>515.203125</td>\n",
       "    </tr>\n",
       "    <tr>\n",
       "      <th>东欧</th>\n",
       "      <td>24</td>\n",
       "      <td>24.0</td>\n",
       "      <td>1032.0</td>\n",
       "      <td>521.541667</td>\n",
       "    </tr>\n",
       "    <tr>\n",
       "      <th>东非</th>\n",
       "      <td>11</td>\n",
       "      <td>256.0</td>\n",
       "      <td>1071.0</td>\n",
       "      <td>687.909091</td>\n",
       "    </tr>\n",
       "    <tr>\n",
       "      <th>中亚</th>\n",
       "      <td>4</td>\n",
       "      <td>525.0</td>\n",
       "      <td>1048.0</td>\n",
       "      <td>770.500000</td>\n",
       "    </tr>\n",
       "    <tr>\n",
       "      <th>中美洲</th>\n",
       "      <td>117</td>\n",
       "      <td>40.0</td>\n",
       "      <td>1076.0</td>\n",
       "      <td>574.162393</td>\n",
       "    </tr>\n",
       "    <tr>\n",
       "      <th>中非</th>\n",
       "      <td>10</td>\n",
       "      <td>72.0</td>\n",
       "      <td>874.0</td>\n",
       "      <td>512.800000</td>\n",
       "    </tr>\n",
       "    <tr>\n",
       "      <th>加勒比海</th>\n",
       "      <td>31</td>\n",
       "      <td>71.0</td>\n",
       "      <td>1044.0</td>\n",
       "      <td>567.129032</td>\n",
       "    </tr>\n",
       "    <tr>\n",
       "      <th>加拿大东部</th>\n",
       "      <td>5</td>\n",
       "      <td>38.0</td>\n",
       "      <td>941.0</td>\n",
       "      <td>562.600000</td>\n",
       "    </tr>\n",
       "    <tr>\n",
       "      <th>北欧</th>\n",
       "      <td>43</td>\n",
       "      <td>35.0</td>\n",
       "      <td>1064.0</td>\n",
       "      <td>558.860465</td>\n",
       "    </tr>\n",
       "    <tr>\n",
       "      <th>北非</th>\n",
       "      <td>26</td>\n",
       "      <td>63.0</td>\n",
       "      <td>1078.0</td>\n",
       "      <td>581.000000</td>\n",
       "    </tr>\n",
       "    <tr>\n",
       "      <th>南亚</th>\n",
       "      <td>58</td>\n",
       "      <td>30.0</td>\n",
       "      <td>1074.0</td>\n",
       "      <td>515.103448</td>\n",
       "    </tr>\n",
       "    <tr>\n",
       "      <th>南欧</th>\n",
       "      <td>55</td>\n",
       "      <td>8.0</td>\n",
       "      <td>1070.0</td>\n",
       "      <td>523.290909</td>\n",
       "    </tr>\n",
       "    <tr>\n",
       "      <th>南美</th>\n",
       "      <td>61</td>\n",
       "      <td>48.0</td>\n",
       "      <td>1036.0</td>\n",
       "      <td>526.557377</td>\n",
       "    </tr>\n",
       "    <tr>\n",
       "      <th>南部非洲</th>\n",
       "      <td>11</td>\n",
       "      <td>15.0</td>\n",
       "      <td>892.0</td>\n",
       "      <td>476.727273</td>\n",
       "    </tr>\n",
       "    <tr>\n",
       "      <th>大洋洲</th>\n",
       "      <td>78</td>\n",
       "      <td>3.0</td>\n",
       "      <td>1058.0</td>\n",
       "      <td>470.833333</td>\n",
       "    </tr>\n",
       "    <tr>\n",
       "      <th>美国东部</th>\n",
       "      <td>69</td>\n",
       "      <td>21.0</td>\n",
       "      <td>1077.0</td>\n",
       "      <td>607.739130</td>\n",
       "    </tr>\n",
       "    <tr>\n",
       "      <th>美国中部</th>\n",
       "      <td>42</td>\n",
       "      <td>0.0</td>\n",
       "      <td>1073.0</td>\n",
       "      <td>614.809524</td>\n",
       "    </tr>\n",
       "    <tr>\n",
       "      <th>美国南部</th>\n",
       "      <td>44</td>\n",
       "      <td>14.0</td>\n",
       "      <td>1023.0</td>\n",
       "      <td>529.977273</td>\n",
       "    </tr>\n",
       "    <tr>\n",
       "      <th>美国西部</th>\n",
       "      <td>72</td>\n",
       "      <td>27.0</td>\n",
       "      <td>1062.0</td>\n",
       "      <td>545.819444</td>\n",
       "    </tr>\n",
       "    <tr>\n",
       "      <th>西亚</th>\n",
       "      <td>50</td>\n",
       "      <td>12.0</td>\n",
       "      <td>1072.0</td>\n",
       "      <td>658.900000</td>\n",
       "    </tr>\n",
       "    <tr>\n",
       "      <th>西加拿大</th>\n",
       "      <td>1</td>\n",
       "      <td>572.0</td>\n",
       "      <td>572.0</td>\n",
       "      <td>572.000000</td>\n",
       "    </tr>\n",
       "    <tr>\n",
       "      <th>西欧</th>\n",
       "      <td>121</td>\n",
       "      <td>6.0</td>\n",
       "      <td>1029.0</td>\n",
       "      <td>439.438017</td>\n",
       "    </tr>\n",
       "    <tr>\n",
       "      <th>西非</th>\n",
       "      <td>29</td>\n",
       "      <td>207.0</td>\n",
       "      <td>1066.0</td>\n",
       "      <td>750.068966</td>\n",
       "    </tr>\n",
       "  </tbody>\n",
       "</table>\n",
       "</div>"
      ],
      "text/plain": [
       "       count    min     max        mean\n",
       "areas                                  \n",
       "东亚        53    1.0  1069.0  415.943396\n",
       "东南亚       64   25.0  1068.0  515.203125\n",
       "东欧        24   24.0  1032.0  521.541667\n",
       "东非        11  256.0  1071.0  687.909091\n",
       "中亚         4  525.0  1048.0  770.500000\n",
       "中美洲      117   40.0  1076.0  574.162393\n",
       "中非        10   72.0   874.0  512.800000\n",
       "加勒比海      31   71.0  1044.0  567.129032\n",
       "加拿大东部      5   38.0   941.0  562.600000\n",
       "北欧        43   35.0  1064.0  558.860465\n",
       "北非        26   63.0  1078.0  581.000000\n",
       "南亚        58   30.0  1074.0  515.103448\n",
       "南欧        55    8.0  1070.0  523.290909\n",
       "南美        61   48.0  1036.0  526.557377\n",
       "南部非洲      11   15.0   892.0  476.727273\n",
       "大洋洲       78    3.0  1058.0  470.833333\n",
       "美国东部      69   21.0  1077.0  607.739130\n",
       "美国中部      42    0.0  1073.0  614.809524\n",
       "美国南部      44   14.0  1023.0  529.977273\n",
       "美国西部      72   27.0  1062.0  545.819444\n",
       "西亚        50   12.0  1072.0  658.900000\n",
       "西加拿大       1  572.0   572.0  572.000000\n",
       "西欧       121    6.0  1029.0  439.438017\n",
       "西非        29  207.0  1066.0  750.068966"
      ]
     },
     "execution_count": 158,
     "metadata": {},
     "output_type": "execute_result"
    }
   ],
   "source": [
    "orders.groupby('areas').numbers.agg(['count','min','max','mean'])\n",
    "#统计变量有count，min，max"
   ]
  },
  {
   "cell_type": "code",
   "execution_count": 159,
   "metadata": {},
   "outputs": [
    {
     "data": {
      "text/html": [
       "<div>\n",
       "<style scoped>\n",
       "    .dataframe tbody tr th:only-of-type {\n",
       "        vertical-align: middle;\n",
       "    }\n",
       "\n",
       "    .dataframe tbody tr th {\n",
       "        vertical-align: top;\n",
       "    }\n",
       "\n",
       "    .dataframe thead th {\n",
       "        text-align: right;\n",
       "    }\n",
       "</style>\n",
       "<table border=\"1\" class=\"dataframe\">\n",
       "  <thead>\n",
       "    <tr style=\"text-align: right;\">\n",
       "      <th></th>\n",
       "      <th>numbers</th>\n",
       "    </tr>\n",
       "    <tr>\n",
       "      <th>areas</th>\n",
       "      <th></th>\n",
       "    </tr>\n",
       "  </thead>\n",
       "  <tbody>\n",
       "    <tr>\n",
       "      <th>东亚</th>\n",
       "      <td>415.943396</td>\n",
       "    </tr>\n",
       "    <tr>\n",
       "      <th>东南亚</th>\n",
       "      <td>515.203125</td>\n",
       "    </tr>\n",
       "    <tr>\n",
       "      <th>东欧</th>\n",
       "      <td>521.541667</td>\n",
       "    </tr>\n",
       "    <tr>\n",
       "      <th>东非</th>\n",
       "      <td>687.909091</td>\n",
       "    </tr>\n",
       "    <tr>\n",
       "      <th>中亚</th>\n",
       "      <td>770.500000</td>\n",
       "    </tr>\n",
       "    <tr>\n",
       "      <th>中美洲</th>\n",
       "      <td>574.162393</td>\n",
       "    </tr>\n",
       "    <tr>\n",
       "      <th>中非</th>\n",
       "      <td>512.800000</td>\n",
       "    </tr>\n",
       "    <tr>\n",
       "      <th>加勒比海</th>\n",
       "      <td>567.129032</td>\n",
       "    </tr>\n",
       "    <tr>\n",
       "      <th>加拿大东部</th>\n",
       "      <td>562.600000</td>\n",
       "    </tr>\n",
       "    <tr>\n",
       "      <th>北欧</th>\n",
       "      <td>558.860465</td>\n",
       "    </tr>\n",
       "    <tr>\n",
       "      <th>北非</th>\n",
       "      <td>581.000000</td>\n",
       "    </tr>\n",
       "    <tr>\n",
       "      <th>南亚</th>\n",
       "      <td>515.103448</td>\n",
       "    </tr>\n",
       "    <tr>\n",
       "      <th>南欧</th>\n",
       "      <td>523.290909</td>\n",
       "    </tr>\n",
       "    <tr>\n",
       "      <th>南美</th>\n",
       "      <td>526.557377</td>\n",
       "    </tr>\n",
       "    <tr>\n",
       "      <th>南部非洲</th>\n",
       "      <td>476.727273</td>\n",
       "    </tr>\n",
       "    <tr>\n",
       "      <th>大洋洲</th>\n",
       "      <td>470.833333</td>\n",
       "    </tr>\n",
       "    <tr>\n",
       "      <th>美国东部</th>\n",
       "      <td>607.739130</td>\n",
       "    </tr>\n",
       "    <tr>\n",
       "      <th>美国中部</th>\n",
       "      <td>614.809524</td>\n",
       "    </tr>\n",
       "    <tr>\n",
       "      <th>美国南部</th>\n",
       "      <td>529.977273</td>\n",
       "    </tr>\n",
       "    <tr>\n",
       "      <th>美国西部</th>\n",
       "      <td>545.819444</td>\n",
       "    </tr>\n",
       "    <tr>\n",
       "      <th>西亚</th>\n",
       "      <td>658.900000</td>\n",
       "    </tr>\n",
       "    <tr>\n",
       "      <th>西加拿大</th>\n",
       "      <td>572.000000</td>\n",
       "    </tr>\n",
       "    <tr>\n",
       "      <th>西欧</th>\n",
       "      <td>439.438017</td>\n",
       "    </tr>\n",
       "    <tr>\n",
       "      <th>西非</th>\n",
       "      <td>750.068966</td>\n",
       "    </tr>\n",
       "  </tbody>\n",
       "</table>\n",
       "</div>"
      ],
      "text/plain": [
       "          numbers\n",
       "areas            \n",
       "东亚     415.943396\n",
       "东南亚    515.203125\n",
       "东欧     521.541667\n",
       "东非     687.909091\n",
       "中亚     770.500000\n",
       "中美洲    574.162393\n",
       "中非     512.800000\n",
       "加勒比海   567.129032\n",
       "加拿大东部  562.600000\n",
       "北欧     558.860465\n",
       "北非     581.000000\n",
       "南亚     515.103448\n",
       "南欧     523.290909\n",
       "南美     526.557377\n",
       "南部非洲   476.727273\n",
       "大洋洲    470.833333\n",
       "美国东部   607.739130\n",
       "美国中部   614.809524\n",
       "美国南部   529.977273\n",
       "美国西部   545.819444\n",
       "西亚     658.900000\n",
       "西加拿大   572.000000\n",
       "西欧     439.438017\n",
       "西非     750.068966"
      ]
     },
     "execution_count": 159,
     "metadata": {},
     "output_type": "execute_result"
    }
   ],
   "source": [
    "orders.groupby('areas').mean()#因为只有number统计变量，其实应该是有全部可以统计的变量"
   ]
  },
  {
   "cell_type": "code",
   "execution_count": 166,
   "metadata": {
    "collapsed": true
   },
   "outputs": [],
   "source": [
    "%matplotlib inline"
   ]
  },
  {
   "cell_type": "code",
   "execution_count": 170,
   "metadata": {
    "collapsed": true
   },
   "outputs": [],
   "source": [
    "from matplotlib.font_manager import FontProperties\n",
    "font = FontProperties(fname=r\"c:\\windows\\fonts\\simsun.ttc\", size=14) "
   ]
  },
  {
   "cell_type": "code",
   "execution_count": 172,
   "metadata": {},
   "outputs": [
    {
     "data": {
      "text/plain": [
       "<matplotlib.axes._subplots.AxesSubplot at 0xbab3f98>"
      ]
     },
     "execution_count": 172,
     "metadata": {},
     "output_type": "execute_result"
    },
    {
     "data": {
      "image/png": "[encoded data removed]",
      "text/plain": [
       "<matplotlib.figure.Figure at 0xba07eb8>"
      ]
     },
     "metadata": {},
     "output_type": "display_data"
    }
   ],
   "source": [
    "orders.groupby('areas').mean().plot(kind='bar')"
   ]
  },
  {
   "cell_type": "code",
   "execution_count": 181,
   "metadata": {},
   "outputs": [
    {
     "data": {
      "text/html": [
       "<div>\n",
       "<style scoped>\n",
       "    .dataframe tbody tr th:only-of-type {\n",
       "        vertical-align: middle;\n",
       "    }\n",
       "\n",
       "    .dataframe tbody tr th {\n",
       "        vertical-align: top;\n",
       "    }\n",
       "\n",
       "    .dataframe thead th {\n",
       "        text-align: right;\n",
       "    }\n",
       "</style>\n",
       "<table border=\"1\" class=\"dataframe\">\n",
       "  <thead>\n",
       "    <tr style=\"text-align: right;\">\n",
       "      <th></th>\n",
       "      <th>back</th>\n",
       "      <th>dingdan</th>\n",
       "      <th>areas</th>\n",
       "      <th>numbers</th>\n",
       "    </tr>\n",
       "  </thead>\n",
       "  <tbody>\n",
       "    <tr>\n",
       "      <th>0</th>\n",
       "      <td>是</td>\n",
       "      <td>CA-2012-SA20830140-41210</td>\n",
       "      <td>美国中部</td>\n",
       "      <td>0.0</td>\n",
       "    </tr>\n",
       "    <tr>\n",
       "      <th>1</th>\n",
       "      <td>是</td>\n",
       "      <td>IN-2012-PB19210127-41259</td>\n",
       "      <td>东亚</td>\n",
       "      <td>1.0</td>\n",
       "    </tr>\n",
       "    <tr>\n",
       "      <th>2</th>\n",
       "      <td>是</td>\n",
       "      <td>CA-2012-SC20095140-41174</td>\n",
       "      <td>美国中部</td>\n",
       "      <td>2.0</td>\n",
       "    </tr>\n",
       "    <tr>\n",
       "      <th>3</th>\n",
       "      <td>是</td>\n",
       "      <td>IN-2015-JH158207-42140</td>\n",
       "      <td>大洋洲</td>\n",
       "      <td>3.0</td>\n",
       "    </tr>\n",
       "    <tr>\n",
       "      <th>4</th>\n",
       "      <td>是</td>\n",
       "      <td>IN-2014-LC168857-41747</td>\n",
       "      <td>大洋洲</td>\n",
       "      <td>4.0</td>\n",
       "    </tr>\n",
       "  </tbody>\n",
       "</table>\n",
       "</div>"
      ],
      "text/plain": [
       "  back                   dingdan areas  numbers\n",
       "0    是  CA-2012-SA20830140-41210  美国中部      0.0\n",
       "1    是  IN-2012-PB19210127-41259    东亚      1.0\n",
       "2    是  CA-2012-SC20095140-41174  美国中部      2.0\n",
       "3    是    IN-2015-JH158207-42140   大洋洲      3.0\n",
       "4    是    IN-2014-LC168857-41747   大洋洲      4.0"
      ]
     },
     "execution_count": 181,
     "metadata": {},
     "output_type": "execute_result"
    }
   ],
   "source": [
    "orders.head()"
   ]
  },
  {
   "cell_type": "code",
   "execution_count": 183,
   "metadata": {},
   "outputs": [
    {
     "data": {
      "text/plain": [
       "back        object\n",
       "dingdan     object\n",
       "areas       object\n",
       "numbers    float64\n",
       "dtype: object"
      ]
     },
     "execution_count": 183,
     "metadata": {},
     "output_type": "execute_result"
    }
   ],
   "source": [
    "orders.dtypes"
   ]
  },
  {
   "cell_type": "code",
   "execution_count": 184,
   "metadata": {},
   "outputs": [
    {
     "data": {
      "text/plain": [
       "count    1079.000000\n",
       "mean      539.000000\n",
       "std       311.624774\n",
       "min         0.000000\n",
       "25%       269.500000\n",
       "50%       539.000000\n",
       "75%       808.500000\n",
       "max      1078.000000\n",
       "Name: numbers, dtype: float64"
      ]
     },
     "execution_count": 184,
     "metadata": {},
     "output_type": "execute_result"
    }
   ],
   "source": [
    "orders.numbers.describe()"
   ]
  },
  {
   "cell_type": "code",
   "execution_count": 186,
   "metadata": {},
   "outputs": [
    {
     "data": {
      "text/plain": [
       "西欧       121\n",
       "中美洲      117\n",
       "大洋洲       78\n",
       "美国西部      72\n",
       "美国东部      69\n",
       "东南亚       64\n",
       "南美        61\n",
       "南亚        58\n",
       "南欧        55\n",
       "东亚        53\n",
       "西亚        50\n",
       "美国南部      44\n",
       "北欧        43\n",
       "美国中部      42\n",
       "加勒比海      31\n",
       "西非        29\n",
       "北非        26\n",
       "东欧        24\n",
       "南部非洲      11\n",
       "东非        11\n",
       "中非        10\n",
       "加拿大东部      5\n",
       "中亚         4\n",
       "西加拿大       1\n",
       "Name: areas, dtype: int64"
      ]
     },
     "execution_count": 186,
     "metadata": {},
     "output_type": "execute_result"
    }
   ],
   "source": [
    "orders.areas.value_counts()"
   ]
  },
  {
   "cell_type": "code",
   "execution_count": 189,
   "metadata": {},
   "outputs": [
    {
     "data": {
      "text/plain": [
       "西欧      121\n",
       "中美洲     117\n",
       "大洋洲      78\n",
       "美国西部     72\n",
       "美国东部     69\n",
       "Name: areas, dtype: int64"
      ]
     },
     "execution_count": 189,
     "metadata": {},
     "output_type": "execute_result"
    }
   ],
   "source": [
    "type(orders.areas.value_counts())#因为类型为SERIES，所以可以使用series函数\n",
    "orders.areas.value_counts().head()"
   ]
  },
  {
   "cell_type": "code",
   "execution_count": 187,
   "metadata": {},
   "outputs": [
    {
     "data": {
      "text/plain": [
       "西欧       0.112141\n",
       "中美洲      0.108434\n",
       "大洋洲      0.072289\n",
       "美国西部     0.066728\n",
       "美国东部     0.063948\n",
       "东南亚      0.059314\n",
       "南美       0.056534\n",
       "南亚       0.053753\n",
       "南欧       0.050973\n",
       "东亚       0.049120\n",
       "西亚       0.046339\n",
       "美国南部     0.040778\n",
       "北欧       0.039852\n",
       "美国中部     0.038925\n",
       "加勒比海     0.028730\n",
       "西非       0.026877\n",
       "北非       0.024096\n",
       "东欧       0.022243\n",
       "南部非洲     0.010195\n",
       "东非       0.010195\n",
       "中非       0.009268\n",
       "加拿大东部    0.004634\n",
       "中亚       0.003707\n",
       "西加拿大     0.000927\n",
       "Name: areas, dtype: float64"
      ]
     },
     "execution_count": 187,
     "metadata": {},
     "output_type": "execute_result"
    }
   ],
   "source": [
    "orders.areas.value_counts(normalize=True)#标准化"
   ]
  },
  {
   "cell_type": "code",
   "execution_count": 192,
   "metadata": {},
   "outputs": [
    {
     "name": "stdout",
     "output_type": "stream",
     "text": [
      "['美国中部' '东亚' '大洋洲' '西欧' '南欧' '西亚' '美国南部' '南部非洲' '美国东部' '东欧' '东南亚' '美国西部'\n",
      " '南亚' '北欧' '加拿大东部' '中美洲' '南美' '北非' '加勒比海' '中非' '西非' '东非' '中亚' '西加拿大'] 24\n"
     ]
    }
   ],
   "source": [
    "a=orders.areas.unique()#唯一的内容\n",
    "b=orders.areas.nunique()#数值\n",
    "print(a,b)"
   ]
  },
  {
   "cell_type": "code",
   "execution_count": 194,
   "metadata": {},
   "outputs": [
    {
     "data": {
      "text/html": [
       "<div>\n",
       "<style scoped>\n",
       "    .dataframe tbody tr th:only-of-type {\n",
       "        vertical-align: middle;\n",
       "    }\n",
       "\n",
       "    .dataframe tbody tr th {\n",
       "        vertical-align: top;\n",
       "    }\n",
       "\n",
       "    .dataframe thead th {\n",
       "        text-align: right;\n",
       "    }\n",
       "</style>\n",
       "<table border=\"1\" class=\"dataframe\">\n",
       "  <thead>\n",
       "    <tr style=\"text-align: right;\">\n",
       "      <th>numbers</th>\n",
       "      <th>0.0</th>\n",
       "      <th>1.0</th>\n",
       "      <th>2.0</th>\n",
       "      <th>3.0</th>\n",
       "      <th>4.0</th>\n",
       "      <th>5.0</th>\n",
       "      <th>6.0</th>\n",
       "      <th>7.0</th>\n",
       "      <th>8.0</th>\n",
       "      <th>9.0</th>\n",
       "      <th>...</th>\n",
       "      <th>1069.0</th>\n",
       "      <th>1070.0</th>\n",
       "      <th>1071.0</th>\n",
       "      <th>1072.0</th>\n",
       "      <th>1073.0</th>\n",
       "      <th>1074.0</th>\n",
       "      <th>1075.0</th>\n",
       "      <th>1076.0</th>\n",
       "      <th>1077.0</th>\n",
       "      <th>1078.0</th>\n",
       "    </tr>\n",
       "    <tr>\n",
       "      <th>areas</th>\n",
       "      <th></th>\n",
       "      <th></th>\n",
       "      <th></th>\n",
       "      <th></th>\n",
       "      <th></th>\n",
       "      <th></th>\n",
       "      <th></th>\n",
       "      <th></th>\n",
       "      <th></th>\n",
       "      <th></th>\n",
       "      <th></th>\n",
       "      <th></th>\n",
       "      <th></th>\n",
       "      <th></th>\n",
       "      <th></th>\n",
       "      <th></th>\n",
       "      <th></th>\n",
       "      <th></th>\n",
       "      <th></th>\n",
       "      <th></th>\n",
       "      <th></th>\n",
       "    </tr>\n",
       "  </thead>\n",
       "  <tbody>\n",
       "    <tr>\n",
       "      <th>东亚</th>\n",
       "      <td>0</td>\n",
       "      <td>1</td>\n",
       "      <td>0</td>\n",
       "      <td>0</td>\n",
       "      <td>0</td>\n",
       "      <td>1</td>\n",
       "      <td>0</td>\n",
       "      <td>0</td>\n",
       "      <td>0</td>\n",
       "      <td>1</td>\n",
       "      <td>...</td>\n",
       "      <td>1</td>\n",
       "      <td>0</td>\n",
       "      <td>0</td>\n",
       "      <td>0</td>\n",
       "      <td>0</td>\n",
       "      <td>0</td>\n",
       "      <td>0</td>\n",
       "      <td>0</td>\n",
       "      <td>0</td>\n",
       "      <td>0</td>\n",
       "    </tr>\n",
       "    <tr>\n",
       "      <th>东南亚</th>\n",
       "      <td>0</td>\n",
       "      <td>0</td>\n",
       "      <td>0</td>\n",
       "      <td>0</td>\n",
       "      <td>0</td>\n",
       "      <td>0</td>\n",
       "      <td>0</td>\n",
       "      <td>0</td>\n",
       "      <td>0</td>\n",
       "      <td>0</td>\n",
       "      <td>...</td>\n",
       "      <td>0</td>\n",
       "      <td>0</td>\n",
       "      <td>0</td>\n",
       "      <td>0</td>\n",
       "      <td>0</td>\n",
       "      <td>0</td>\n",
       "      <td>0</td>\n",
       "      <td>0</td>\n",
       "      <td>0</td>\n",
       "      <td>0</td>\n",
       "    </tr>\n",
       "    <tr>\n",
       "      <th>东欧</th>\n",
       "      <td>0</td>\n",
       "      <td>0</td>\n",
       "      <td>0</td>\n",
       "      <td>0</td>\n",
       "      <td>0</td>\n",
       "      <td>0</td>\n",
       "      <td>0</td>\n",
       "      <td>0</td>\n",
       "      <td>0</td>\n",
       "      <td>0</td>\n",
       "      <td>...</td>\n",
       "      <td>0</td>\n",
       "      <td>0</td>\n",
       "      <td>0</td>\n",
       "      <td>0</td>\n",
       "      <td>0</td>\n",
       "      <td>0</td>\n",
       "      <td>0</td>\n",
       "      <td>0</td>\n",
       "      <td>0</td>\n",
       "      <td>0</td>\n",
       "    </tr>\n",
       "    <tr>\n",
       "      <th>东非</th>\n",
       "      <td>0</td>\n",
       "      <td>0</td>\n",
       "      <td>0</td>\n",
       "      <td>0</td>\n",
       "      <td>0</td>\n",
       "      <td>0</td>\n",
       "      <td>0</td>\n",
       "      <td>0</td>\n",
       "      <td>0</td>\n",
       "      <td>0</td>\n",
       "      <td>...</td>\n",
       "      <td>0</td>\n",
       "      <td>0</td>\n",
       "      <td>1</td>\n",
       "      <td>0</td>\n",
       "      <td>0</td>\n",
       "      <td>0</td>\n",
       "      <td>0</td>\n",
       "      <td>0</td>\n",
       "      <td>0</td>\n",
       "      <td>0</td>\n",
       "    </tr>\n",
       "    <tr>\n",
       "      <th>中亚</th>\n",
       "      <td>0</td>\n",
       "      <td>0</td>\n",
       "      <td>0</td>\n",
       "      <td>0</td>\n",
       "      <td>0</td>\n",
       "      <td>0</td>\n",
       "      <td>0</td>\n",
       "      <td>0</td>\n",
       "      <td>0</td>\n",
       "      <td>0</td>\n",
       "      <td>...</td>\n",
       "      <td>0</td>\n",
       "      <td>0</td>\n",
       "      <td>0</td>\n",
       "      <td>0</td>\n",
       "      <td>0</td>\n",
       "      <td>0</td>\n",
       "      <td>0</td>\n",
       "      <td>0</td>\n",
       "      <td>0</td>\n",
       "      <td>0</td>\n",
       "    </tr>\n",
       "  </tbody>\n",
       "</table>\n",
       "<p>5 rows × 1079 columns</p>\n",
       "</div>"
      ],
      "text/plain": [
       "numbers  0.0     1.0     2.0     3.0     4.0     5.0     6.0     7.0     \\\n",
       "areas                                                                     \n",
       "东亚            0       1       0       0       0       1       0       0   \n",
       "东南亚           0       0       0       0       0       0       0       0   \n",
       "东欧            0       0       0       0       0       0       0       0   \n",
       "东非            0       0       0       0       0       0       0       0   \n",
       "中亚            0       0       0       0       0       0       0       0   \n",
       "\n",
       "numbers  8.0     9.0      ...    1069.0  1070.0  1071.0  1072.0  1073.0  \\\n",
       "areas                     ...                                             \n",
       "东亚            0       1   ...         1       0       0       0       0   \n",
       "东南亚           0       0   ...         0       0       0       0       0   \n",
       "东欧            0       0   ...         0       0       0       0       0   \n",
       "东非            0       0   ...         0       0       1       0       0   \n",
       "中亚            0       0   ...         0       0       0       0       0   \n",
       "\n",
       "numbers  1074.0  1075.0  1076.0  1077.0  1078.0  \n",
       "areas                                            \n",
       "东亚            0       0       0       0       0  \n",
       "东南亚           0       0       0       0       0  \n",
       "东欧            0       0       0       0       0  \n",
       "东非            0       0       0       0       0  \n",
       "中亚            0       0       0       0       0  \n",
       "\n",
       "[5 rows x 1079 columns]"
      ]
     },
     "execution_count": 194,
     "metadata": {},
     "output_type": "execute_result"
    }
   ],
   "source": [
    "pd.crosstab(orders.areas,orders.numbers).head()\n",
    "#以地区和数字为横纵轴，看其中的交叉列表"
   ]
  },
  {
   "cell_type": "code",
   "execution_count": 196,
   "metadata": {},
   "outputs": [
    {
     "data": {
      "text/plain": [
       "西欧      121\n",
       "中美洲     117\n",
       "大洋洲      78\n",
       "美国西部     72\n",
       "美国东部     69\n",
       "Name: areas, dtype: int64"
      ]
     },
     "execution_count": 196,
     "metadata": {},
     "output_type": "execute_result"
    }
   ],
   "source": [
    "orders.areas.value_counts().head()"
   ]
  },
  {
   "cell_type": "code",
   "execution_count": 197,
   "metadata": {
    "collapsed": true
   },
   "outputs": [],
   "source": [
    "%matplotlib inline"
   ]
  },
  {
   "cell_type": "code",
   "execution_count": 199,
   "metadata": {
    "scrolled": true
   },
   "outputs": [
    {
     "data": {
      "text/plain": [
       "<matplotlib.axes._subplots.AxesSubplot at 0xc36df98>"
      ]
     },
     "execution_count": 199,
     "metadata": {},
     "output_type": "execute_result"
    },
    {
     "data": {
      "image/png": "[encoded data removed]",
      "text/plain": [
       "<matplotlib.figure.Figure at 0xc34c0b8>"
      ]
     },
     "metadata": {},
     "output_type": "display_data"
    }
   ],
   "source": [
    "orders.numbers.plot(kind='hist')#为了统计频率"
   ]
  },
  {
   "cell_type": "code",
   "execution_count": 200,
   "metadata": {},
   "outputs": [
    {
     "data": {
      "text/plain": [
       "<matplotlib.axes._subplots.AxesSubplot at 0xc377358>"
      ]
     },
     "execution_count": 200,
     "metadata": {},
     "output_type": "execute_result"
    },
    {
     "data": {
      "image/png": "[encoded data removed]",
      "text/plain": [
       "<matplotlib.figure.Figure at 0xc3ef2b0>"
      ]
     },
     "metadata": {},
     "output_type": "display_data"
    }
   ],
   "source": [
    "orders.areas.value_counts().plot(kind='hist')"
   ]
  },
  {
   "cell_type": "code",
   "execution_count": 211,
   "metadata": {
    "collapsed": true
   },
   "outputs": [],
   "source": [
    "orders=pd.read_excel('data/Global Superstore Orders 2016_zh-CN.xlsx',usecols=[0,2,20,22])"
   ]
  },
  {
   "cell_type": "code",
   "execution_count": 212,
   "metadata": {},
   "outputs": [
    {
     "data": {
      "text/html": [
       "<div>\n",
       "<style scoped>\n",
       "    .dataframe tbody tr th:only-of-type {\n",
       "        vertical-align: middle;\n",
       "    }\n",
       "\n",
       "    .dataframe tbody tr th {\n",
       "        vertical-align: top;\n",
       "    }\n",
       "\n",
       "    .dataframe thead th {\n",
       "        text-align: right;\n",
       "    }\n",
       "</style>\n",
       "<table border=\"1\" class=\"dataframe\">\n",
       "  <thead>\n",
       "    <tr style=\"text-align: right;\">\n",
       "      <th></th>\n",
       "      <th>行 ID</th>\n",
       "      <th>订购日期</th>\n",
       "      <th>折扣</th>\n",
       "      <th>装运成本</th>\n",
       "    </tr>\n",
       "  </thead>\n",
       "  <tbody>\n",
       "    <tr>\n",
       "      <th>0</th>\n",
       "      <td>40098</td>\n",
       "      <td>2014-11-11</td>\n",
       "      <td>0.0</td>\n",
       "      <td>40.77</td>\n",
       "    </tr>\n",
       "    <tr>\n",
       "      <th>1</th>\n",
       "      <td>26341</td>\n",
       "      <td>2014-02-05</td>\n",
       "      <td>0.1</td>\n",
       "      <td>923.63</td>\n",
       "    </tr>\n",
       "    <tr>\n",
       "      <th>2</th>\n",
       "      <td>25330</td>\n",
       "      <td>2014-10-17</td>\n",
       "      <td>0.1</td>\n",
       "      <td>915.49</td>\n",
       "    </tr>\n",
       "    <tr>\n",
       "      <th>3</th>\n",
       "      <td>13524</td>\n",
       "      <td>2014-01-28</td>\n",
       "      <td>0.1</td>\n",
       "      <td>910.16</td>\n",
       "    </tr>\n",
       "    <tr>\n",
       "      <th>4</th>\n",
       "      <td>47221</td>\n",
       "      <td>2014-11-05</td>\n",
       "      <td>0.0</td>\n",
       "      <td>903.04</td>\n",
       "    </tr>\n",
       "  </tbody>\n",
       "</table>\n",
       "</div>"
      ],
      "text/plain": [
       "    行 ID       订购日期   折扣    装运成本\n",
       "0  40098 2014-11-11  0.0   40.77\n",
       "1  26341 2014-02-05  0.1  923.63\n",
       "2  25330 2014-10-17  0.1  915.49\n",
       "3  13524 2014-01-28  0.1  910.16\n",
       "4  47221 2014-11-05  0.0  903.04"
      ]
     },
     "execution_count": 212,
     "metadata": {},
     "output_type": "execute_result"
    }
   ],
   "source": [
    "orders.head()"
   ]
  },
  {
   "cell_type": "code",
   "execution_count": 214,
   "metadata": {},
   "outputs": [
    {
     "data": {
      "text/html": [
       "<div>\n",
       "<style scoped>\n",
       "    .dataframe tbody tr th:only-of-type {\n",
       "        vertical-align: middle;\n",
       "    }\n",
       "\n",
       "    .dataframe tbody tr th {\n",
       "        vertical-align: top;\n",
       "    }\n",
       "\n",
       "    .dataframe thead th {\n",
       "        text-align: right;\n",
       "    }\n",
       "</style>\n",
       "<table border=\"1\" class=\"dataframe\">\n",
       "  <thead>\n",
       "    <tr style=\"text-align: right;\">\n",
       "      <th></th>\n",
       "      <th>行 ID</th>\n",
       "      <th>订购日期</th>\n",
       "      <th>折扣</th>\n",
       "      <th>装运成本</th>\n",
       "    </tr>\n",
       "  </thead>\n",
       "  <tbody>\n",
       "    <tr>\n",
       "      <th>51285</th>\n",
       "      <td>False</td>\n",
       "      <td>False</td>\n",
       "      <td>False</td>\n",
       "      <td>False</td>\n",
       "    </tr>\n",
       "    <tr>\n",
       "      <th>51286</th>\n",
       "      <td>False</td>\n",
       "      <td>False</td>\n",
       "      <td>False</td>\n",
       "      <td>False</td>\n",
       "    </tr>\n",
       "    <tr>\n",
       "      <th>51287</th>\n",
       "      <td>False</td>\n",
       "      <td>False</td>\n",
       "      <td>False</td>\n",
       "      <td>False</td>\n",
       "    </tr>\n",
       "    <tr>\n",
       "      <th>51288</th>\n",
       "      <td>False</td>\n",
       "      <td>False</td>\n",
       "      <td>False</td>\n",
       "      <td>False</td>\n",
       "    </tr>\n",
       "    <tr>\n",
       "      <th>51289</th>\n",
       "      <td>False</td>\n",
       "      <td>False</td>\n",
       "      <td>False</td>\n",
       "      <td>False</td>\n",
       "    </tr>\n",
       "  </tbody>\n",
       "</table>\n",
       "</div>"
      ],
      "text/plain": [
       "        行 ID   订购日期     折扣   装运成本\n",
       "51285  False  False  False  False\n",
       "51286  False  False  False  False\n",
       "51287  False  False  False  False\n",
       "51288  False  False  False  False\n",
       "51289  False  False  False  False"
      ]
     },
     "execution_count": 214,
     "metadata": {},
     "output_type": "execute_result"
    }
   ],
   "source": [
    "orders.isnull().tail()"
   ]
  },
  {
   "cell_type": "code",
   "execution_count": 215,
   "metadata": {},
   "outputs": [
    {
     "data": {
      "text/plain": [
       "行 ID    0\n",
       "订购日期    0\n",
       "折扣      0\n",
       "装运成本    0\n",
       "dtype: int64"
      ]
     },
     "execution_count": 215,
     "metadata": {},
     "output_type": "execute_result"
    }
   ],
   "source": [
    "orders.isnull().sum()"
   ]
  },
  {
   "cell_type": "code",
   "execution_count": 216,
   "metadata": {},
   "outputs": [
    {
     "data": {
      "text/plain": [
       "2"
      ]
     },
     "execution_count": 216,
     "metadata": {},
     "output_type": "execute_result"
    }
   ],
   "source": [
    "pd.Series([True,True,False]).sum()#ture有多少个"
   ]
  },
  {
   "cell_type": "code",
   "execution_count": null,
   "metadata": {
    "collapsed": true
   },
   "outputs": [],
   "source": [
    "#把空缺值数据拿出来\n",
    "orders[orders.city.isnull()]#把orders中的city中的null值全部所有的数值显示出来"
   ]
  },
  {
   "cell_type": "code",
   "execution_count": 217,
   "metadata": {},
   "outputs": [
    {
     "data": {
      "text/plain": [
       "(51290, 4)"
      ]
     },
     "execution_count": 217,
     "metadata": {},
     "output_type": "execute_result"
    }
   ],
   "source": [
    "orders.shape"
   ]
  },
  {
   "cell_type": "code",
   "execution_count": 218,
   "metadata": {},
   "outputs": [
    {
     "data": {
      "text/plain": [
       "(51290, 4)"
      ]
     },
     "execution_count": 218,
     "metadata": {},
     "output_type": "execute_result"
    }
   ],
   "source": [
    "orders.dropna(how='any').shape#任何有缺失值都进行删除"
   ]
  },
  {
   "cell_type": "code",
   "execution_count": null,
   "metadata": {
    "collapsed": true
   },
   "outputs": [],
   "source": [
    "#但是现在并没有更改之前的数据\n",
    "orders.dropna(how='all').shape#全部是空缺值才删除"
   ]
  },
  {
   "cell_type": "code",
   "execution_count": null,
   "metadata": {
    "collapsed": true
   },
   "outputs": [],
   "source": [
    "orders.dropna(subset=[' ',' '],how='all').shape#subset是选择的什么列"
   ]
  },
  {
   "cell_type": "code",
   "execution_count": 220,
   "metadata": {},
   "outputs": [
    {
     "data": {
      "text/plain": [
       "2015-06-18    135\n",
       "2015-11-18    127\n",
       "2015-09-03    126\n",
       "2015-11-20    118\n",
       "2015-12-29    116\n",
       "Name: 订购日期, dtype: int64"
      ]
     },
     "execution_count": 220,
     "metadata": {},
     "output_type": "execute_result"
    }
   ],
   "source": [
    "orders[\"订购日期\"].value_counts().head()"
   ]
  },
  {
   "cell_type": "code",
   "execution_count": 222,
   "metadata": {},
   "outputs": [
    {
     "data": {
      "text/plain": [
       "2015-06-18    135\n",
       "2015-11-18    127\n",
       "2015-09-03    126\n",
       "2015-11-20    118\n",
       "2015-12-29    116\n",
       "Name: 订购日期, dtype: int64"
      ]
     },
     "execution_count": 222,
     "metadata": {},
     "output_type": "execute_result"
    }
   ],
   "source": [
    "#但是如果有空缺值，先看空缺值可以\n",
    "orders[\"订购日期\"].value_counts(dropna=False).head()"
   ]
  },
  {
   "cell_type": "code",
   "execution_count": null,
   "metadata": {
    "collapsed": true
   },
   "outputs": [],
   "source": [
    "orders[\"订购日期\"].fillna(value=\"ABC\",inplace=True)#以ABC填补空缺值"
   ]
  },
  {
   "cell_type": "code",
   "execution_count": 223,
   "metadata": {},
   "outputs": [
    {
     "data": {
      "text/plain": [
       "RangeIndex(start=0, stop=51290, step=1)"
      ]
     },
     "execution_count": 223,
     "metadata": {},
     "output_type": "execute_result"
    }
   ],
   "source": [
    "orders.index"
   ]
  },
  {
   "cell_type": "code",
   "execution_count": 224,
   "metadata": {},
   "outputs": [
    {
     "data": {
      "text/plain": [
       "Index(['行 ID', '订购日期', '折扣', '装运成本'], dtype='object')"
      ]
     },
     "execution_count": 224,
     "metadata": {},
     "output_type": "execute_result"
    }
   ],
   "source": [
    "orders.columns"
   ]
  },
  {
   "cell_type": "code",
   "execution_count": 226,
   "metadata": {},
   "outputs": [
    {
     "data": {
      "text/plain": [
       "(51290, 4)"
      ]
     },
     "execution_count": 226,
     "metadata": {},
     "output_type": "execute_result"
    }
   ],
   "source": [
    "orders.shape"
   ]
  },
  {
   "cell_type": "code",
   "execution_count": 227,
   "metadata": {},
   "outputs": [
    {
     "data": {
      "text/plain": [
       "Timestamp('2014-02-27 00:00:00')"
      ]
     },
     "execution_count": 227,
     "metadata": {},
     "output_type": "execute_result"
    }
   ],
   "source": [
    "orders.loc[23,\"订购日期\"]"
   ]
  },
  {
   "cell_type": "code",
   "execution_count": 3,
   "metadata": {
    "collapsed": true
   },
   "outputs": [],
   "source": [
    "returns=pd.read_csv('data/Global Superstore Returns 2016_zh-CN.csv')"
   ]
  },
  {
   "cell_type": "code",
   "execution_count": 2,
   "metadata": {
    "collapsed": true
   },
   "outputs": [],
   "source": [
    "import pandas as pd"
   ]
  },
  {
   "cell_type": "code",
   "execution_count": 230,
   "metadata": {},
   "outputs": [
    {
     "data": {
      "text/html": [
       "<div>\n",
       "<style scoped>\n",
       "    .dataframe tbody tr th:only-of-type {\n",
       "        vertical-align: middle;\n",
       "    }\n",
       "\n",
       "    .dataframe tbody tr th {\n",
       "        vertical-align: top;\n",
       "    }\n",
       "\n",
       "    .dataframe thead th {\n",
       "        text-align: right;\n",
       "    }\n",
       "</style>\n",
       "<table border=\"1\" class=\"dataframe\">\n",
       "  <thead>\n",
       "    <tr style=\"text-align: right;\">\n",
       "      <th></th>\n",
       "      <th>已退回</th>\n",
       "      <th>订单 ID</th>\n",
       "      <th>地区</th>\n",
       "    </tr>\n",
       "  </thead>\n",
       "  <tbody>\n",
       "    <tr>\n",
       "      <th>0</th>\n",
       "      <td>是</td>\n",
       "      <td>CA-2012-SA20830140-41210</td>\n",
       "      <td>美国中部</td>\n",
       "    </tr>\n",
       "    <tr>\n",
       "      <th>1</th>\n",
       "      <td>是</td>\n",
       "      <td>IN-2012-PB19210127-41259</td>\n",
       "      <td>东亚</td>\n",
       "    </tr>\n",
       "    <tr>\n",
       "      <th>2</th>\n",
       "      <td>是</td>\n",
       "      <td>CA-2012-SC20095140-41174</td>\n",
       "      <td>美国中部</td>\n",
       "    </tr>\n",
       "    <tr>\n",
       "      <th>3</th>\n",
       "      <td>是</td>\n",
       "      <td>IN-2015-JH158207-42140</td>\n",
       "      <td>大洋洲</td>\n",
       "    </tr>\n",
       "    <tr>\n",
       "      <th>4</th>\n",
       "      <td>是</td>\n",
       "      <td>IN-2014-LC168857-41747</td>\n",
       "      <td>大洋洲</td>\n",
       "    </tr>\n",
       "  </tbody>\n",
       "</table>\n",
       "</div>"
      ],
      "text/plain": [
       "  已退回                     订单 ID    地区\n",
       "0   是  CA-2012-SA20830140-41210  美国中部\n",
       "1   是  IN-2012-PB19210127-41259    东亚\n",
       "2   是  CA-2012-SC20095140-41174  美国中部\n",
       "3   是    IN-2015-JH158207-42140   大洋洲\n",
       "4   是    IN-2014-LC168857-41747   大洋洲"
      ]
     },
     "execution_count": 230,
     "metadata": {},
     "output_type": "execute_result"
    }
   ],
   "source": [
    "returns.head()"
   ]
  },
  {
   "cell_type": "code",
   "execution_count": 4,
   "metadata": {},
   "outputs": [
    {
     "data": {
      "text/html": [
       "<div>\n",
       "<style scoped>\n",
       "    .dataframe tbody tr th:only-of-type {\n",
       "        vertical-align: middle;\n",
       "    }\n",
       "\n",
       "    .dataframe tbody tr th {\n",
       "        vertical-align: top;\n",
       "    }\n",
       "\n",
       "    .dataframe thead th {\n",
       "        text-align: right;\n",
       "    }\n",
       "</style>\n",
       "<table border=\"1\" class=\"dataframe\">\n",
       "  <thead>\n",
       "    <tr style=\"text-align: right;\">\n",
       "      <th></th>\n",
       "      <th>已退回</th>\n",
       "      <th>订单 ID</th>\n",
       "    </tr>\n",
       "    <tr>\n",
       "      <th>地区</th>\n",
       "      <th></th>\n",
       "      <th></th>\n",
       "    </tr>\n",
       "  </thead>\n",
       "  <tbody>\n",
       "    <tr>\n",
       "      <th>美国中部</th>\n",
       "      <td>是</td>\n",
       "      <td>CA-2012-SA20830140-41210</td>\n",
       "    </tr>\n",
       "    <tr>\n",
       "      <th>东亚</th>\n",
       "      <td>是</td>\n",
       "      <td>IN-2012-PB19210127-41259</td>\n",
       "    </tr>\n",
       "    <tr>\n",
       "      <th>美国中部</th>\n",
       "      <td>是</td>\n",
       "      <td>CA-2012-SC20095140-41174</td>\n",
       "    </tr>\n",
       "    <tr>\n",
       "      <th>大洋洲</th>\n",
       "      <td>是</td>\n",
       "      <td>IN-2015-JH158207-42140</td>\n",
       "    </tr>\n",
       "    <tr>\n",
       "      <th>大洋洲</th>\n",
       "      <td>是</td>\n",
       "      <td>IN-2014-LC168857-41747</td>\n",
       "    </tr>\n",
       "  </tbody>\n",
       "</table>\n",
       "</div>"
      ],
      "text/plain": [
       "     已退回                     订单 ID\n",
       "地区                                \n",
       "美国中部   是  CA-2012-SA20830140-41210\n",
       "东亚     是  IN-2012-PB19210127-41259\n",
       "美国中部   是  CA-2012-SC20095140-41174\n",
       "大洋洲    是    IN-2015-JH158207-42140\n",
       "大洋洲    是    IN-2014-LC168857-41747"
      ]
     },
     "execution_count": 4,
     "metadata": {},
     "output_type": "execute_result"
    }
   ],
   "source": [
    "returns.set_index(\"地区\",inplace=True)\n",
    "returns.head()"
   ]
  },
  {
   "cell_type": "code",
   "execution_count": 233,
   "metadata": {},
   "outputs": [
    {
     "data": {
      "text/plain": [
       "RangeIndex(start=0, stop=1079, step=1)"
      ]
     },
     "execution_count": 233,
     "metadata": {},
     "output_type": "execute_result"
    }
   ],
   "source": [
    "orders.index"
   ]
  },
  {
   "cell_type": "code",
   "execution_count": 234,
   "metadata": {},
   "outputs": [
    {
     "data": {
      "text/plain": [
       "Index(['已退回', '订单 ID', '地区'], dtype='object')"
      ]
     },
     "execution_count": 234,
     "metadata": {},
     "output_type": "execute_result"
    }
   ],
   "source": [
    "orders.columns"
   ]
  },
  {
   "cell_type": "code",
   "execution_count": 235,
   "metadata": {},
   "outputs": [
    {
     "data": {
      "text/plain": [
       "(1079, 3)"
      ]
     },
     "execution_count": 235,
     "metadata": {},
     "output_type": "execute_result"
    }
   ],
   "source": [
    "orders.shape"
   ]
  },
  {
   "cell_type": "code",
   "execution_count": 241,
   "metadata": {},
   "outputs": [
    {
     "data": {
      "text/plain": [
       "'ID-2013-AB1001527-41439'"
      ]
     },
     "execution_count": 241,
     "metadata": {},
     "output_type": "execute_result"
    }
   ],
   "source": [
    "orders.loc[5,\"订单 ID\"]"
   ]
  },
  {
   "cell_type": "code",
   "execution_count": 243,
   "metadata": {},
   "outputs": [
    {
     "data": {
      "text/html": [
       "<div>\n",
       "<style scoped>\n",
       "    .dataframe tbody tr th:only-of-type {\n",
       "        vertical-align: middle;\n",
       "    }\n",
       "\n",
       "    .dataframe tbody tr th {\n",
       "        vertical-align: top;\n",
       "    }\n",
       "\n",
       "    .dataframe thead th {\n",
       "        text-align: right;\n",
       "    }\n",
       "</style>\n",
       "<table border=\"1\" class=\"dataframe\">\n",
       "  <thead>\n",
       "    <tr style=\"text-align: right;\">\n",
       "      <th></th>\n",
       "      <th>已退回</th>\n",
       "      <th>订单 ID</th>\n",
       "    </tr>\n",
       "  </thead>\n",
       "  <tbody>\n",
       "    <tr>\n",
       "      <th>美国中部</th>\n",
       "      <td>是</td>\n",
       "      <td>CA-2012-SA20830140-41210</td>\n",
       "    </tr>\n",
       "    <tr>\n",
       "      <th>东亚</th>\n",
       "      <td>是</td>\n",
       "      <td>IN-2012-PB19210127-41259</td>\n",
       "    </tr>\n",
       "    <tr>\n",
       "      <th>美国中部</th>\n",
       "      <td>是</td>\n",
       "      <td>CA-2012-SC20095140-41174</td>\n",
       "    </tr>\n",
       "    <tr>\n",
       "      <th>大洋洲</th>\n",
       "      <td>是</td>\n",
       "      <td>IN-2015-JH158207-42140</td>\n",
       "    </tr>\n",
       "    <tr>\n",
       "      <th>大洋洲</th>\n",
       "      <td>是</td>\n",
       "      <td>IN-2014-LC168857-41747</td>\n",
       "    </tr>\n",
       "  </tbody>\n",
       "</table>\n",
       "</div>"
      ],
      "text/plain": [
       "     已退回                     订单 ID\n",
       "美国中部   是  CA-2012-SA20830140-41210\n",
       "东亚     是  IN-2012-PB19210127-41259\n",
       "美国中部   是  CA-2012-SC20095140-41174\n",
       "大洋洲    是    IN-2015-JH158207-42140\n",
       "大洋洲    是    IN-2014-LC168857-41747"
      ]
     },
     "execution_count": 243,
     "metadata": {},
     "output_type": "execute_result"
    }
   ],
   "source": [
    "returns.index.name=None\n",
    "returns.head()"
   ]
  },
  {
   "cell_type": "code",
   "execution_count": 244,
   "metadata": {},
   "outputs": [
    {
     "data": {
      "text/html": [
       "<div>\n",
       "<style scoped>\n",
       "    .dataframe tbody tr th:only-of-type {\n",
       "        vertical-align: middle;\n",
       "    }\n",
       "\n",
       "    .dataframe tbody tr th {\n",
       "        vertical-align: top;\n",
       "    }\n",
       "\n",
       "    .dataframe thead th {\n",
       "        text-align: right;\n",
       "    }\n",
       "</style>\n",
       "<table border=\"1\" class=\"dataframe\">\n",
       "  <thead>\n",
       "    <tr style=\"text-align: right;\">\n",
       "      <th></th>\n",
       "      <th>areas</th>\n",
       "      <th>已退回</th>\n",
       "      <th>订单 ID</th>\n",
       "    </tr>\n",
       "  </thead>\n",
       "  <tbody>\n",
       "    <tr>\n",
       "      <th>0</th>\n",
       "      <td>美国中部</td>\n",
       "      <td>是</td>\n",
       "      <td>CA-2012-SA20830140-41210</td>\n",
       "    </tr>\n",
       "    <tr>\n",
       "      <th>1</th>\n",
       "      <td>东亚</td>\n",
       "      <td>是</td>\n",
       "      <td>IN-2012-PB19210127-41259</td>\n",
       "    </tr>\n",
       "    <tr>\n",
       "      <th>2</th>\n",
       "      <td>美国中部</td>\n",
       "      <td>是</td>\n",
       "      <td>CA-2012-SC20095140-41174</td>\n",
       "    </tr>\n",
       "    <tr>\n",
       "      <th>3</th>\n",
       "      <td>大洋洲</td>\n",
       "      <td>是</td>\n",
       "      <td>IN-2015-JH158207-42140</td>\n",
       "    </tr>\n",
       "    <tr>\n",
       "      <th>4</th>\n",
       "      <td>大洋洲</td>\n",
       "      <td>是</td>\n",
       "      <td>IN-2014-LC168857-41747</td>\n",
       "    </tr>\n",
       "  </tbody>\n",
       "</table>\n",
       "</div>"
      ],
      "text/plain": [
       "  areas 已退回                     订单 ID\n",
       "0  美国中部   是  CA-2012-SA20830140-41210\n",
       "1    东亚   是  IN-2012-PB19210127-41259\n",
       "2  美国中部   是  CA-2012-SC20095140-41174\n",
       "3   大洋洲   是    IN-2015-JH158207-42140\n",
       "4   大洋洲   是    IN-2014-LC168857-41747"
      ]
     },
     "execution_count": 244,
     "metadata": {},
     "output_type": "execute_result"
    }
   ],
   "source": [
    "returns.index.name='areas'\n",
    "returns.reset_index(inplace=True)\n",
    "returns.head()\n",
    "#更改列表列名名字"
   ]
  },
  {
   "cell_type": "code",
   "execution_count": 245,
   "metadata": {},
   "outputs": [
    {
     "data": {
      "text/html": [
       "<div>\n",
       "<style scoped>\n",
       "    .dataframe tbody tr th:only-of-type {\n",
       "        vertical-align: middle;\n",
       "    }\n",
       "\n",
       "    .dataframe tbody tr th {\n",
       "        vertical-align: top;\n",
       "    }\n",
       "\n",
       "    .dataframe thead th {\n",
       "        text-align: right;\n",
       "    }\n",
       "</style>\n",
       "<table border=\"1\" class=\"dataframe\">\n",
       "  <thead>\n",
       "    <tr style=\"text-align: right;\">\n",
       "      <th></th>\n",
       "      <th>已退回</th>\n",
       "      <th>订单 ID</th>\n",
       "      <th>地区</th>\n",
       "    </tr>\n",
       "  </thead>\n",
       "  <tbody>\n",
       "    <tr>\n",
       "      <th>count</th>\n",
       "      <td>1079</td>\n",
       "      <td>1079</td>\n",
       "      <td>1079</td>\n",
       "    </tr>\n",
       "    <tr>\n",
       "      <th>unique</th>\n",
       "      <td>1</td>\n",
       "      <td>1079</td>\n",
       "      <td>24</td>\n",
       "    </tr>\n",
       "    <tr>\n",
       "      <th>top</th>\n",
       "      <td>是</td>\n",
       "      <td>MX-2014-TG216405-41952</td>\n",
       "      <td>西欧</td>\n",
       "    </tr>\n",
       "    <tr>\n",
       "      <th>freq</th>\n",
       "      <td>1079</td>\n",
       "      <td>1</td>\n",
       "      <td>121</td>\n",
       "    </tr>\n",
       "  </tbody>\n",
       "</table>\n",
       "</div>"
      ],
      "text/plain": [
       "         已退回                   订单 ID    地区\n",
       "count   1079                    1079  1079\n",
       "unique     1                    1079    24\n",
       "top        是  MX-2014-TG216405-41952    西欧\n",
       "freq    1079                       1   121"
      ]
     },
     "execution_count": 245,
     "metadata": {},
     "output_type": "execute_result"
    }
   ],
   "source": [
    "orders.describe()"
   ]
  },
  {
   "cell_type": "code",
   "execution_count": 246,
   "metadata": {},
   "outputs": [
    {
     "data": {
      "text/plain": [
       "'西欧'"
      ]
     },
     "execution_count": 246,
     "metadata": {},
     "output_type": "execute_result"
    }
   ],
   "source": [
    "orders.describe().loc['top',\"地区\"]"
   ]
  },
  {
   "cell_type": "code",
   "execution_count": 247,
   "metadata": {},
   "outputs": [
    {
     "data": {
      "text/html": [
       "<div>\n",
       "<style scoped>\n",
       "    .dataframe tbody tr th:only-of-type {\n",
       "        vertical-align: middle;\n",
       "    }\n",
       "\n",
       "    .dataframe tbody tr th {\n",
       "        vertical-align: top;\n",
       "    }\n",
       "\n",
       "    .dataframe thead th {\n",
       "        text-align: right;\n",
       "    }\n",
       "</style>\n",
       "<table border=\"1\" class=\"dataframe\">\n",
       "  <thead>\n",
       "    <tr style=\"text-align: right;\">\n",
       "      <th></th>\n",
       "      <th>areas</th>\n",
       "      <th>已退回</th>\n",
       "      <th>订单 ID</th>\n",
       "    </tr>\n",
       "  </thead>\n",
       "  <tbody>\n",
       "    <tr>\n",
       "      <th>0</th>\n",
       "      <td>美国中部</td>\n",
       "      <td>是</td>\n",
       "      <td>CA-2012-SA20830140-41210</td>\n",
       "    </tr>\n",
       "    <tr>\n",
       "      <th>1</th>\n",
       "      <td>东亚</td>\n",
       "      <td>是</td>\n",
       "      <td>IN-2012-PB19210127-41259</td>\n",
       "    </tr>\n",
       "    <tr>\n",
       "      <th>2</th>\n",
       "      <td>美国中部</td>\n",
       "      <td>是</td>\n",
       "      <td>CA-2012-SC20095140-41174</td>\n",
       "    </tr>\n",
       "    <tr>\n",
       "      <th>3</th>\n",
       "      <td>大洋洲</td>\n",
       "      <td>是</td>\n",
       "      <td>IN-2015-JH158207-42140</td>\n",
       "    </tr>\n",
       "    <tr>\n",
       "      <th>4</th>\n",
       "      <td>大洋洲</td>\n",
       "      <td>是</td>\n",
       "      <td>IN-2014-LC168857-41747</td>\n",
       "    </tr>\n",
       "  </tbody>\n",
       "</table>\n",
       "</div>"
      ],
      "text/plain": [
       "  areas 已退回                     订单 ID\n",
       "0  美国中部   是  CA-2012-SA20830140-41210\n",
       "1    东亚   是  IN-2012-PB19210127-41259\n",
       "2  美国中部   是  CA-2012-SC20095140-41174\n",
       "3   大洋洲   是    IN-2015-JH158207-42140\n",
       "4   大洋洲   是    IN-2014-LC168857-41747"
      ]
     },
     "execution_count": 247,
     "metadata": {},
     "output_type": "execute_result"
    }
   ],
   "source": [
    "returns.head()"
   ]
  },
  {
   "cell_type": "code",
   "execution_count": 251,
   "metadata": {},
   "outputs": [
    {
     "data": {
      "text/plain": [
       "西欧       121\n",
       "中美洲      117\n",
       "大洋洲       78\n",
       "美国西部      72\n",
       "美国东部      69\n",
       "东南亚       64\n",
       "南美        61\n",
       "南亚        58\n",
       "南欧        55\n",
       "东亚        53\n",
       "西亚        50\n",
       "美国南部      44\n",
       "北欧        43\n",
       "美国中部      42\n",
       "加勒比海      31\n",
       "西非        29\n",
       "北非        26\n",
       "东欧        24\n",
       "南部非洲      11\n",
       "东非        11\n",
       "中非        10\n",
       "加拿大东部      5\n",
       "中亚         4\n",
       "西加拿大       1\n",
       "Name: areas, dtype: int64"
      ]
     },
     "execution_count": 251,
     "metadata": {},
     "output_type": "execute_result"
    }
   ],
   "source": [
    "returns.areas.value_counts().sort_values(ascending=False)"
   ]
  },
  {
   "cell_type": "code",
   "execution_count": 252,
   "metadata": {},
   "outputs": [
    {
     "data": {
      "text/plain": [
       "array([121, 117,  78,  72,  69,  64,  61,  58,  55,  53,  50,  44,  43,\n",
       "        42,  31,  29,  26,  24,  11,  11,  10,   5,   4,   1], dtype=int64)"
      ]
     },
     "execution_count": 252,
     "metadata": {},
     "output_type": "execute_result"
    }
   ],
   "source": [
    "returns.areas.value_counts().values"
   ]
  },
  {
   "cell_type": "code",
   "execution_count": 268,
   "metadata": {},
   "outputs": [
    {
     "data": {
      "text/plain": [
       "西欧     2000\n",
       "中美洲    3000\n",
       "Name: population, dtype: int64"
      ]
     },
     "execution_count": 268,
     "metadata": {},
     "output_type": "execute_result"
    }
   ],
   "source": [
    "people=pd.Series([2000,3000],index=[\"西欧\",'中美洲'],name='population')\n",
    "people"
   ]
  },
  {
   "cell_type": "code",
   "execution_count": 254,
   "metadata": {},
   "outputs": [
    {
     "data": {
      "text/plain": [
       "(1079, 3)"
      ]
     },
     "execution_count": 254,
     "metadata": {},
     "output_type": "execute_result"
    }
   ],
   "source": [
    "returns.shape"
   ]
  },
  {
   "cell_type": "code",
   "execution_count": 255,
   "metadata": {
    "collapsed": true
   },
   "outputs": [],
   "source": [
    "returns[\"numbers\"]=np.arange(1079)"
   ]
  },
  {
   "cell_type": "code",
   "execution_count": 262,
   "metadata": {},
   "outputs": [
    {
     "data": {
      "text/html": [
       "<div>\n",
       "<style scoped>\n",
       "    .dataframe tbody tr th:only-of-type {\n",
       "        vertical-align: middle;\n",
       "    }\n",
       "\n",
       "    .dataframe tbody tr th {\n",
       "        vertical-align: top;\n",
       "    }\n",
       "\n",
       "    .dataframe thead th {\n",
       "        text-align: right;\n",
       "    }\n",
       "</style>\n",
       "<table border=\"1\" class=\"dataframe\">\n",
       "  <thead>\n",
       "    <tr style=\"text-align: right;\">\n",
       "      <th></th>\n",
       "      <th>areas</th>\n",
       "      <th>已退回</th>\n",
       "      <th>订单 ID</th>\n",
       "      <th>numbers</th>\n",
       "    </tr>\n",
       "  </thead>\n",
       "  <tbody>\n",
       "    <tr>\n",
       "      <th>0</th>\n",
       "      <td>美国中部</td>\n",
       "      <td>是</td>\n",
       "      <td>CA-2012-SA20830140-41210</td>\n",
       "      <td>0</td>\n",
       "    </tr>\n",
       "    <tr>\n",
       "      <th>1</th>\n",
       "      <td>东亚</td>\n",
       "      <td>是</td>\n",
       "      <td>IN-2012-PB19210127-41259</td>\n",
       "      <td>1</td>\n",
       "    </tr>\n",
       "    <tr>\n",
       "      <th>2</th>\n",
       "      <td>美国中部</td>\n",
       "      <td>是</td>\n",
       "      <td>CA-2012-SC20095140-41174</td>\n",
       "      <td>2</td>\n",
       "    </tr>\n",
       "    <tr>\n",
       "      <th>3</th>\n",
       "      <td>大洋洲</td>\n",
       "      <td>是</td>\n",
       "      <td>IN-2015-JH158207-42140</td>\n",
       "      <td>3</td>\n",
       "    </tr>\n",
       "    <tr>\n",
       "      <th>4</th>\n",
       "      <td>大洋洲</td>\n",
       "      <td>是</td>\n",
       "      <td>IN-2014-LC168857-41747</td>\n",
       "      <td>4</td>\n",
       "    </tr>\n",
       "  </tbody>\n",
       "</table>\n",
       "</div>"
      ],
      "text/plain": [
       "  areas 已退回                     订单 ID  numbers\n",
       "0  美国中部   是  CA-2012-SA20830140-41210        0\n",
       "1    东亚   是  IN-2012-PB19210127-41259        1\n",
       "2  美国中部   是  CA-2012-SC20095140-41174        2\n",
       "3   大洋洲   是    IN-2015-JH158207-42140        3\n",
       "4   大洋洲   是    IN-2014-LC168857-41747        4"
      ]
     },
     "execution_count": 262,
     "metadata": {},
     "output_type": "execute_result"
    }
   ],
   "source": [
    "returns.head()"
   ]
  },
  {
   "cell_type": "code",
   "execution_count": 264,
   "metadata": {},
   "outputs": [
    {
     "data": {
      "text/plain": [
       "西欧       121\n",
       "中美洲      117\n",
       "大洋洲       78\n",
       "美国西部      72\n",
       "美国东部      69\n",
       "东南亚       64\n",
       "南美        61\n",
       "南亚        58\n",
       "南欧        55\n",
       "东亚        53\n",
       "西亚        50\n",
       "美国南部      44\n",
       "北欧        43\n",
       "美国中部      42\n",
       "加勒比海      31\n",
       "西非        29\n",
       "北非        26\n",
       "东欧        24\n",
       "南部非洲      11\n",
       "东非        11\n",
       "中非        10\n",
       "加拿大东部      5\n",
       "中亚         4\n",
       "西加拿大       1\n",
       "Name: areas, dtype: int64"
      ]
     },
     "execution_count": 264,
     "metadata": {},
     "output_type": "execute_result"
    }
   ],
   "source": [
    "returns.areas.value_counts()"
   ]
  },
  {
   "cell_type": "code",
   "execution_count": 270,
   "metadata": {},
   "outputs": [
    {
     "name": "stderr",
     "output_type": "stream",
     "text": [
      "C:\\Users\\jucy\\Anaconda3\\lib\\site-packages\\pandas\\core\\indexes\\range.py:453: RuntimeWarning: '<' not supported between instances of 'int' and 'str', sort order is undefined for incomparable objects\n",
      "  return self._int64index.union(other)\n"
     ]
    },
    {
     "data": {
      "text/html": [
       "<div>\n",
       "<style scoped>\n",
       "    .dataframe tbody tr th:only-of-type {\n",
       "        vertical-align: middle;\n",
       "    }\n",
       "\n",
       "    .dataframe tbody tr th {\n",
       "        vertical-align: top;\n",
       "    }\n",
       "\n",
       "    .dataframe thead th {\n",
       "        text-align: right;\n",
       "    }\n",
       "</style>\n",
       "<table border=\"1\" class=\"dataframe\">\n",
       "  <thead>\n",
       "    <tr style=\"text-align: right;\">\n",
       "      <th></th>\n",
       "      <th>areas</th>\n",
       "      <th>已退回</th>\n",
       "      <th>订单 ID</th>\n",
       "      <th>numbers</th>\n",
       "      <th>population</th>\n",
       "    </tr>\n",
       "  </thead>\n",
       "  <tbody>\n",
       "    <tr>\n",
       "      <th>0</th>\n",
       "      <td>美国中部</td>\n",
       "      <td>是</td>\n",
       "      <td>CA-2012-SA20830140-41210</td>\n",
       "      <td>0.0</td>\n",
       "      <td>NaN</td>\n",
       "    </tr>\n",
       "    <tr>\n",
       "      <th>1</th>\n",
       "      <td>东亚</td>\n",
       "      <td>是</td>\n",
       "      <td>IN-2012-PB19210127-41259</td>\n",
       "      <td>1.0</td>\n",
       "      <td>NaN</td>\n",
       "    </tr>\n",
       "    <tr>\n",
       "      <th>2</th>\n",
       "      <td>美国中部</td>\n",
       "      <td>是</td>\n",
       "      <td>CA-2012-SC20095140-41174</td>\n",
       "      <td>2.0</td>\n",
       "      <td>NaN</td>\n",
       "    </tr>\n",
       "    <tr>\n",
       "      <th>3</th>\n",
       "      <td>大洋洲</td>\n",
       "      <td>是</td>\n",
       "      <td>IN-2015-JH158207-42140</td>\n",
       "      <td>3.0</td>\n",
       "      <td>NaN</td>\n",
       "    </tr>\n",
       "    <tr>\n",
       "      <th>4</th>\n",
       "      <td>大洋洲</td>\n",
       "      <td>是</td>\n",
       "      <td>IN-2014-LC168857-41747</td>\n",
       "      <td>4.0</td>\n",
       "      <td>NaN</td>\n",
       "    </tr>\n",
       "  </tbody>\n",
       "</table>\n",
       "</div>"
      ],
      "text/plain": [
       "  areas 已退回                     订单 ID  numbers  population\n",
       "0  美国中部   是  CA-2012-SA20830140-41210      0.0         NaN\n",
       "1    东亚   是  IN-2012-PB19210127-41259      1.0         NaN\n",
       "2  美国中部   是  CA-2012-SC20095140-41174      2.0         NaN\n",
       "3   大洋洲   是    IN-2015-JH158207-42140      3.0         NaN\n",
       "4   大洋洲   是    IN-2014-LC168857-41747      4.0         NaN"
      ]
     },
     "execution_count": 270,
     "metadata": {},
     "output_type": "execute_result"
    }
   ],
   "source": [
    "pd.concat([returns,people],axis=1).head()"
   ]
  },
  {
   "cell_type": "code",
   "execution_count": 271,
   "metadata": {},
   "outputs": [
    {
     "data": {
      "text/plain": [
       "areas                          美国中部\n",
       "已退回                               是\n",
       "订单 ID      CA-2012-SA20830140-41210\n",
       "numbers                           0\n",
       "Name: 0, dtype: object"
      ]
     },
     "execution_count": 271,
     "metadata": {},
     "output_type": "execute_result"
    }
   ],
   "source": [
    "returns.loc[0,:]"
   ]
  },
  {
   "cell_type": "code",
   "execution_count": 272,
   "metadata": {},
   "outputs": [
    {
     "data": {
      "text/html": [
       "<div>\n",
       "<style scoped>\n",
       "    .dataframe tbody tr th:only-of-type {\n",
       "        vertical-align: middle;\n",
       "    }\n",
       "\n",
       "    .dataframe tbody tr th {\n",
       "        vertical-align: top;\n",
       "    }\n",
       "\n",
       "    .dataframe thead th {\n",
       "        text-align: right;\n",
       "    }\n",
       "</style>\n",
       "<table border=\"1\" class=\"dataframe\">\n",
       "  <thead>\n",
       "    <tr style=\"text-align: right;\">\n",
       "      <th></th>\n",
       "      <th>areas</th>\n",
       "      <th>已退回</th>\n",
       "      <th>订单 ID</th>\n",
       "      <th>numbers</th>\n",
       "    </tr>\n",
       "  </thead>\n",
       "  <tbody>\n",
       "    <tr>\n",
       "      <th>0</th>\n",
       "      <td>美国中部</td>\n",
       "      <td>是</td>\n",
       "      <td>CA-2012-SA20830140-41210</td>\n",
       "      <td>0</td>\n",
       "    </tr>\n",
       "    <tr>\n",
       "      <th>1</th>\n",
       "      <td>东亚</td>\n",
       "      <td>是</td>\n",
       "      <td>IN-2012-PB19210127-41259</td>\n",
       "      <td>1</td>\n",
       "    </tr>\n",
       "    <tr>\n",
       "      <th>2</th>\n",
       "      <td>美国中部</td>\n",
       "      <td>是</td>\n",
       "      <td>CA-2012-SC20095140-41174</td>\n",
       "      <td>2</td>\n",
       "    </tr>\n",
       "  </tbody>\n",
       "</table>\n",
       "</div>"
      ],
      "text/plain": [
       "  areas 已退回                     订单 ID  numbers\n",
       "0  美国中部   是  CA-2012-SA20830140-41210        0\n",
       "1    东亚   是  IN-2012-PB19210127-41259        1\n",
       "2  美国中部   是  CA-2012-SC20095140-41174        2"
      ]
     },
     "execution_count": 272,
     "metadata": {},
     "output_type": "execute_result"
    }
   ],
   "source": [
    "returns.loc[[0,1,2],:]"
   ]
  },
  {
   "cell_type": "code",
   "execution_count": 273,
   "metadata": {},
   "outputs": [
    {
     "data": {
      "text/html": [
       "<div>\n",
       "<style scoped>\n",
       "    .dataframe tbody tr th:only-of-type {\n",
       "        vertical-align: middle;\n",
       "    }\n",
       "\n",
       "    .dataframe tbody tr th {\n",
       "        vertical-align: top;\n",
       "    }\n",
       "\n",
       "    .dataframe thead th {\n",
       "        text-align: right;\n",
       "    }\n",
       "</style>\n",
       "<table border=\"1\" class=\"dataframe\">\n",
       "  <thead>\n",
       "    <tr style=\"text-align: right;\">\n",
       "      <th></th>\n",
       "      <th>areas</th>\n",
       "      <th>已退回</th>\n",
       "      <th>订单 ID</th>\n",
       "      <th>numbers</th>\n",
       "    </tr>\n",
       "  </thead>\n",
       "  <tbody>\n",
       "    <tr>\n",
       "      <th>0</th>\n",
       "      <td>美国中部</td>\n",
       "      <td>是</td>\n",
       "      <td>CA-2012-SA20830140-41210</td>\n",
       "      <td>0</td>\n",
       "    </tr>\n",
       "    <tr>\n",
       "      <th>1</th>\n",
       "      <td>东亚</td>\n",
       "      <td>是</td>\n",
       "      <td>IN-2012-PB19210127-41259</td>\n",
       "      <td>1</td>\n",
       "    </tr>\n",
       "    <tr>\n",
       "      <th>2</th>\n",
       "      <td>美国中部</td>\n",
       "      <td>是</td>\n",
       "      <td>CA-2012-SC20095140-41174</td>\n",
       "      <td>2</td>\n",
       "    </tr>\n",
       "  </tbody>\n",
       "</table>\n",
       "</div>"
      ],
      "text/plain": [
       "  areas 已退回                     订单 ID  numbers\n",
       "0  美国中部   是  CA-2012-SA20830140-41210        0\n",
       "1    东亚   是  IN-2012-PB19210127-41259        1\n",
       "2  美国中部   是  CA-2012-SC20095140-41174        2"
      ]
     },
     "execution_count": 273,
     "metadata": {},
     "output_type": "execute_result"
    }
   ],
   "source": [
    "returns.loc[0:2,:]"
   ]
  },
  {
   "cell_type": "code",
   "execution_count": 278,
   "metadata": {},
   "outputs": [
    {
     "data": {
      "text/html": [
       "<div>\n",
       "<style scoped>\n",
       "    .dataframe tbody tr th:only-of-type {\n",
       "        vertical-align: middle;\n",
       "    }\n",
       "\n",
       "    .dataframe tbody tr th {\n",
       "        vertical-align: top;\n",
       "    }\n",
       "\n",
       "    .dataframe thead th {\n",
       "        text-align: right;\n",
       "    }\n",
       "</style>\n",
       "<table border=\"1\" class=\"dataframe\">\n",
       "  <thead>\n",
       "    <tr style=\"text-align: right;\">\n",
       "      <th></th>\n",
       "      <th>areas</th>\n",
       "      <th>订单 ID</th>\n",
       "    </tr>\n",
       "  </thead>\n",
       "  <tbody>\n",
       "    <tr>\n",
       "      <th>0</th>\n",
       "      <td>美国中部</td>\n",
       "      <td>CA-2012-SA20830140-41210</td>\n",
       "    </tr>\n",
       "    <tr>\n",
       "      <th>1</th>\n",
       "      <td>东亚</td>\n",
       "      <td>IN-2012-PB19210127-41259</td>\n",
       "    </tr>\n",
       "    <tr>\n",
       "      <th>2</th>\n",
       "      <td>美国中部</td>\n",
       "      <td>CA-2012-SC20095140-41174</td>\n",
       "    </tr>\n",
       "  </tbody>\n",
       "</table>\n",
       "</div>"
      ],
      "text/plain": [
       "  areas                     订单 ID\n",
       "0  美国中部  CA-2012-SA20830140-41210\n",
       "1    东亚  IN-2012-PB19210127-41259\n",
       "2  美国中部  CA-2012-SC20095140-41174"
      ]
     },
     "execution_count": 278,
     "metadata": {},
     "output_type": "execute_result"
    }
   ],
   "source": [
    "returns.loc[0:2,['areas',\"订单 ID\"]]#包含前后"
   ]
  },
  {
   "cell_type": "code",
   "execution_count": 288,
   "metadata": {},
   "outputs": [
    {
     "data": {
      "text/html": [
       "<div>\n",
       "<style scoped>\n",
       "    .dataframe tbody tr th:only-of-type {\n",
       "        vertical-align: middle;\n",
       "    }\n",
       "\n",
       "    .dataframe tbody tr th {\n",
       "        vertical-align: top;\n",
       "    }\n",
       "\n",
       "    .dataframe thead th {\n",
       "        text-align: right;\n",
       "    }\n",
       "</style>\n",
       "<table border=\"1\" class=\"dataframe\">\n",
       "  <thead>\n",
       "    <tr style=\"text-align: right;\">\n",
       "      <th></th>\n",
       "      <th>areas</th>\n",
       "      <th>已退回</th>\n",
       "    </tr>\n",
       "  </thead>\n",
       "  <tbody>\n",
       "    <tr>\n",
       "      <th>0</th>\n",
       "      <td>美国中部</td>\n",
       "      <td>是</td>\n",
       "    </tr>\n",
       "    <tr>\n",
       "      <th>1</th>\n",
       "      <td>东亚</td>\n",
       "      <td>是</td>\n",
       "    </tr>\n",
       "  </tbody>\n",
       "</table>\n",
       "</div>"
      ],
      "text/plain": [
       "  areas 已退回\n",
       "0  美国中部   是\n",
       "1    东亚   是"
      ]
     },
     "execution_count": 288,
     "metadata": {},
     "output_type": "execute_result"
    }
   ],
   "source": [
    "returns.iloc[0:2:,0:2]#不包含右边的"
   ]
  },
  {
   "cell_type": "code",
   "execution_count": 281,
   "metadata": {},
   "outputs": [
    {
     "data": {
      "text/html": [
       "<div>\n",
       "<style scoped>\n",
       "    .dataframe tbody tr th:only-of-type {\n",
       "        vertical-align: middle;\n",
       "    }\n",
       "\n",
       "    .dataframe tbody tr th {\n",
       "        vertical-align: top;\n",
       "    }\n",
       "\n",
       "    .dataframe thead th {\n",
       "        text-align: right;\n",
       "    }\n",
       "</style>\n",
       "<table border=\"1\" class=\"dataframe\">\n",
       "  <thead>\n",
       "    <tr style=\"text-align: right;\">\n",
       "      <th></th>\n",
       "      <th>areas</th>\n",
       "      <th>已退回</th>\n",
       "      <th>订单 ID</th>\n",
       "    </tr>\n",
       "  </thead>\n",
       "  <tbody>\n",
       "    <tr>\n",
       "      <th>0</th>\n",
       "      <td>美国中部</td>\n",
       "      <td>是</td>\n",
       "      <td>CA-2012-SA20830140-41210</td>\n",
       "    </tr>\n",
       "    <tr>\n",
       "      <th>1</th>\n",
       "      <td>东亚</td>\n",
       "      <td>是</td>\n",
       "      <td>IN-2012-PB19210127-41259</td>\n",
       "    </tr>\n",
       "    <tr>\n",
       "      <th>2</th>\n",
       "      <td>美国中部</td>\n",
       "      <td>是</td>\n",
       "      <td>CA-2012-SC20095140-41174</td>\n",
       "    </tr>\n",
       "  </tbody>\n",
       "</table>\n",
       "</div>"
      ],
      "text/plain": [
       "  areas 已退回                     订单 ID\n",
       "0  美国中部   是  CA-2012-SA20830140-41210\n",
       "1    东亚   是  IN-2012-PB19210127-41259\n",
       "2  美国中部   是  CA-2012-SC20095140-41174"
      ]
     },
     "execution_count": 281,
     "metadata": {},
     "output_type": "execute_result"
    }
   ],
   "source": [
    "returns.head(3).drop('numbers',axis=1)"
   ]
  },
  {
   "cell_type": "code",
   "execution_count": 289,
   "metadata": {},
   "outputs": [
    {
     "data": {
      "text/plain": [
       "0    CA-2012-SA20830140-41210\n",
       "2    CA-2012-SC20095140-41174\n",
       "7    CA-2014-TB21280140-41724\n",
       "Name: 订单 ID, dtype: object"
      ]
     },
     "execution_count": 289,
     "metadata": {},
     "output_type": "execute_result"
    }
   ],
   "source": [
    "returns.loc[returns.areas==\"美国中部\",\"订单 ID\"].head(3)"
   ]
  },
  {
   "cell_type": "code",
   "execution_count": 290,
   "metadata": {},
   "outputs": [
    {
     "data": {
      "text/html": [
       "<div>\n",
       "<style scoped>\n",
       "    .dataframe tbody tr th:only-of-type {\n",
       "        vertical-align: middle;\n",
       "    }\n",
       "\n",
       "    .dataframe tbody tr th {\n",
       "        vertical-align: top;\n",
       "    }\n",
       "\n",
       "    .dataframe thead th {\n",
       "        text-align: right;\n",
       "    }\n",
       "</style>\n",
       "<table border=\"1\" class=\"dataframe\">\n",
       "  <thead>\n",
       "    <tr style=\"text-align: right;\">\n",
       "      <th></th>\n",
       "      <th>areas</th>\n",
       "      <th>已退回</th>\n",
       "      <th>订单 ID</th>\n",
       "      <th>numbers</th>\n",
       "    </tr>\n",
       "  </thead>\n",
       "  <tbody>\n",
       "    <tr>\n",
       "      <th>0</th>\n",
       "      <td>美国中部</td>\n",
       "      <td>是</td>\n",
       "      <td>CA-2012-SA20830140-41210</td>\n",
       "      <td>0</td>\n",
       "    </tr>\n",
       "    <tr>\n",
       "      <th>1</th>\n",
       "      <td>东亚</td>\n",
       "      <td>是</td>\n",
       "      <td>IN-2012-PB19210127-41259</td>\n",
       "      <td>1</td>\n",
       "    </tr>\n",
       "  </tbody>\n",
       "</table>\n",
       "</div>"
      ],
      "text/plain": [
       "  areas 已退回                     订单 ID  numbers\n",
       "0  美国中部   是  CA-2012-SA20830140-41210        0\n",
       "1    东亚   是  IN-2012-PB19210127-41259        1"
      ]
     },
     "execution_count": 290,
     "metadata": {},
     "output_type": "execute_result"
    }
   ],
   "source": [
    "returns[0:2]"
   ]
  },
  {
   "cell_type": "code",
   "execution_count": 292,
   "metadata": {},
   "outputs": [
    {
     "data": {
      "text/plain": [
       "'是'"
      ]
     },
     "execution_count": 292,
     "metadata": {},
     "output_type": "execute_result"
    }
   ],
   "source": [
    "returns.ix[0,1]#相对引用，第一行，第二列"
   ]
  },
  {
   "cell_type": "code",
   "execution_count": 293,
   "metadata": {},
   "outputs": [
    {
     "data": {
      "text/plain": [
       "'是'"
      ]
     },
     "execution_count": 293,
     "metadata": {},
     "output_type": "execute_result"
    }
   ],
   "source": [
    "returns.ix[0,\"已退回\"]"
   ]
  },
  {
   "cell_type": "code",
   "execution_count": 294,
   "metadata": {},
   "outputs": [
    {
     "data": {
      "text/html": [
       "<div>\n",
       "<style scoped>\n",
       "    .dataframe tbody tr th:only-of-type {\n",
       "        vertical-align: middle;\n",
       "    }\n",
       "\n",
       "    .dataframe tbody tr th {\n",
       "        vertical-align: top;\n",
       "    }\n",
       "\n",
       "    .dataframe thead th {\n",
       "        text-align: right;\n",
       "    }\n",
       "</style>\n",
       "<table border=\"1\" class=\"dataframe\">\n",
       "  <thead>\n",
       "    <tr style=\"text-align: right;\">\n",
       "      <th></th>\n",
       "      <th>已退回</th>\n",
       "      <th>订单 ID</th>\n",
       "      <th>numbers</th>\n",
       "    </tr>\n",
       "  </thead>\n",
       "  <tbody>\n",
       "    <tr>\n",
       "      <th>0</th>\n",
       "      <td>是</td>\n",
       "      <td>CA-2012-SA20830140-41210</td>\n",
       "      <td>0</td>\n",
       "    </tr>\n",
       "    <tr>\n",
       "      <th>1</th>\n",
       "      <td>是</td>\n",
       "      <td>IN-2012-PB19210127-41259</td>\n",
       "      <td>1</td>\n",
       "    </tr>\n",
       "    <tr>\n",
       "      <th>2</th>\n",
       "      <td>是</td>\n",
       "      <td>CA-2012-SC20095140-41174</td>\n",
       "      <td>2</td>\n",
       "    </tr>\n",
       "    <tr>\n",
       "      <th>3</th>\n",
       "      <td>是</td>\n",
       "      <td>IN-2015-JH158207-42140</td>\n",
       "      <td>3</td>\n",
       "    </tr>\n",
       "  </tbody>\n",
       "</table>\n",
       "</div>"
      ],
      "text/plain": [
       "  已退回                     订单 ID  numbers\n",
       "0   是  CA-2012-SA20830140-41210        0\n",
       "1   是  IN-2012-PB19210127-41259        1\n",
       "2   是  CA-2012-SC20095140-41174        2\n",
       "3   是    IN-2015-JH158207-42140        3"
      ]
     },
     "execution_count": 294,
     "metadata": {},
     "output_type": "execute_result"
    }
   ],
   "source": [
    "returns.ix[0:3,\"已退回\":'numbers']#和loc一样，包括前后，同时支持可直接给出两种形式"
   ]
  },
  {
   "cell_type": "code",
   "execution_count": 295,
   "metadata": {},
   "outputs": [
    {
     "data": {
      "text/plain": [
       "Index(['areas', '已退回', '订单 ID', 'numbers'], dtype='object')"
      ]
     },
     "execution_count": 295,
     "metadata": {},
     "output_type": "execute_result"
    }
   ],
   "source": [
    "returns.columns"
   ]
  },
  {
   "cell_type": "code",
   "execution_count": 296,
   "metadata": {
    "collapsed": true
   },
   "outputs": [],
   "source": [
    "returns=returns.set_index(\"areas\")"
   ]
  },
  {
   "cell_type": "code",
   "execution_count": 297,
   "metadata": {},
   "outputs": [
    {
     "data": {
      "text/html": [
       "<div>\n",
       "<style scoped>\n",
       "    .dataframe tbody tr th:only-of-type {\n",
       "        vertical-align: middle;\n",
       "    }\n",
       "\n",
       "    .dataframe tbody tr th {\n",
       "        vertical-align: top;\n",
       "    }\n",
       "\n",
       "    .dataframe thead th {\n",
       "        text-align: right;\n",
       "    }\n",
       "</style>\n",
       "<table border=\"1\" class=\"dataframe\">\n",
       "  <thead>\n",
       "    <tr style=\"text-align: right;\">\n",
       "      <th></th>\n",
       "      <th>已退回</th>\n",
       "      <th>订单 ID</th>\n",
       "      <th>numbers</th>\n",
       "    </tr>\n",
       "    <tr>\n",
       "      <th>areas</th>\n",
       "      <th></th>\n",
       "      <th></th>\n",
       "      <th></th>\n",
       "    </tr>\n",
       "  </thead>\n",
       "  <tbody>\n",
       "    <tr>\n",
       "      <th>美国中部</th>\n",
       "      <td>是</td>\n",
       "      <td>CA-2012-SA20830140-41210</td>\n",
       "      <td>0</td>\n",
       "    </tr>\n",
       "    <tr>\n",
       "      <th>东亚</th>\n",
       "      <td>是</td>\n",
       "      <td>IN-2012-PB19210127-41259</td>\n",
       "      <td>1</td>\n",
       "    </tr>\n",
       "    <tr>\n",
       "      <th>美国中部</th>\n",
       "      <td>是</td>\n",
       "      <td>CA-2012-SC20095140-41174</td>\n",
       "      <td>2</td>\n",
       "    </tr>\n",
       "    <tr>\n",
       "      <th>大洋洲</th>\n",
       "      <td>是</td>\n",
       "      <td>IN-2015-JH158207-42140</td>\n",
       "      <td>3</td>\n",
       "    </tr>\n",
       "    <tr>\n",
       "      <th>大洋洲</th>\n",
       "      <td>是</td>\n",
       "      <td>IN-2014-LC168857-41747</td>\n",
       "      <td>4</td>\n",
       "    </tr>\n",
       "  </tbody>\n",
       "</table>\n",
       "</div>"
      ],
      "text/plain": [
       "      已退回                     订单 ID  numbers\n",
       "areas                                       \n",
       "美国中部    是  CA-2012-SA20830140-41210        0\n",
       "东亚      是  IN-2012-PB19210127-41259        1\n",
       "美国中部    是  CA-2012-SC20095140-41174        2\n",
       "大洋洲     是    IN-2015-JH158207-42140        3\n",
       "大洋洲     是    IN-2014-LC168857-41747        4"
      ]
     },
     "execution_count": 297,
     "metadata": {},
     "output_type": "execute_result"
    }
   ],
   "source": [
    "returns.head()"
   ]
  },
  {
   "cell_type": "code",
   "execution_count": null,
   "metadata": {
    "collapsed": true
   },
   "outputs": [],
   "source": [
    "returns.fillna(method='ffill/bfill').tail()#将最后一次有效观测向前传播到下一个有效 /  使用NEXT有效观察填充间隙"
   ]
  }
 ],
 "metadata": {
  "kernelspec": {
   "display_name": "Python 3",
   "language": "python",
   "name": "python3"
  },
  "language_info": {
   "codemirror_mode": {
    "name": "ipython",
    "version": 3
   },
   "file_extension": ".py",
   "mimetype": "text/x-python",
   "name": "python",
   "nbconvert_exporter": "python",
   "pygments_lexer": "ipython3",
   "version": "3.6.3"
  }
 },
 "nbformat": 4,
 "nbformat_minor": 2
}
